{
 "cells": [
  {
   "cell_type": "code",
   "execution_count": 7,
   "metadata": {},
   "outputs": [],
   "source": [
    "import tensorflow as tf"
   ]
  },
  {
   "cell_type": "code",
   "execution_count": 8,
   "metadata": {},
   "outputs": [
    {
     "data": {
      "text/plain": [
       "'2.1.0'"
      ]
     },
     "execution_count": 8,
     "metadata": {},
     "output_type": "execute_result"
    }
   ],
   "source": [
    "tf.__version__"
   ]
  },
  {
   "cell_type": "code",
   "execution_count": 9,
   "metadata": {},
   "outputs": [
    {
     "name": "stdout",
     "output_type": "stream",
     "text": [
      "Please install GPU version of TF\n"
     ]
    }
   ],
   "source": [
    "import tensorflow as tf\n",
    "if tf.test.gpu_device_name():\n",
    "   print('Default GPU Device: {}'.format(tf.test.gpu_device_name()))\n",
    "else:\n",
    "   print(\"Please install GPU version of TF\")"
   ]
  },
  {
   "cell_type": "code",
   "execution_count": 10,
   "metadata": {},
   "outputs": [],
   "source": [
    "from sklearn import *\n",
    "from tensorflow import keras as keras\n",
    "# import matplotlib.pyplot as plt\n",
    "import tensorflow as tf\n",
    "from sklearn.datasets import load_digits\n",
    "from tensorflow.keras.utils import to_categorical\n",
    "import pandas as pd\n",
    "import os\n",
    "from tensorflow.keras.models import Sequential\n",
    "from tensorflow.keras.layers import Embedding, Flatten, Dense\n",
    "from tensorflow.keras.preprocessing import sequence\n",
    "from tensorflow.keras.preprocessing.text import Tokenizer\n",
    "from tensorflow.keras.preprocessing.sequence import pad_sequences\n",
    "\n",
    "from tensorflow.keras.callbacks import EarlyStopping\n",
    "\n",
    "import numpy as np\n",
    "from tensorboard.plugins import projector\n",
    "\n",
    "from sklearn.model_selection import train_test_split\n",
    "\n"
   ]
  },
  {
   "cell_type": "code",
   "execution_count": 11,
   "metadata": {},
   "outputs": [],
   "source": [
    "#root_dir = 'C:\\\\Users\\\\Shantanu\\\\Dropbox\\\\Capstone\\\\Wikipedia Data\\\\'\n",
    "\n",
    "root_dir = r'/Users/pankaj/Library/Mobile Documents/com~apple~CloudDocs/Capstone/Wikipedia Data'\n",
    "\n",
    "result_path = annot_file_path = os.path.join(root_dir , 'comments_with_grouped_annoptations.tsv')\n",
    "\n",
    "merged_comments = pd.read_table(result_path)"
   ]
  },
  {
   "cell_type": "code",
   "execution_count": 12,
   "metadata": {},
   "outputs": [],
   "source": [
    "merged_comments['recipient_attack'] = merged_comments['recipient_attack'].apply(lambda x : 1 if x> 1 else 0 )\n",
    "X_train = merged_comments['comment']\n",
    "y = merged_comments['recipient_attack']\n",
    "one_hot_train_labels = to_categorical(y)"
   ]
  },
  {
   "cell_type": "code",
   "execution_count": 13,
   "metadata": {},
   "outputs": [],
   "source": [
    "merged_comments['new_attack'] = merged_comments['attack'].apply(lambda x : 1 if x> 1 else 0 )"
   ]
  },
  {
   "cell_type": "code",
   "execution_count": 14,
   "metadata": {},
   "outputs": [
    {
     "name": "stdout",
     "output_type": "stream",
     "text": [
      "Found 187899 unique tokens.\n"
     ]
    }
   ],
   "source": [
    "# Prepare training input  \n",
    "training_samples = 0.60\n",
    "validation_samples = 0.40\n",
    "max_words = 15000\n",
    "tokenizer = Tokenizer(num_words=max_words)\n",
    "tokenizer.fit_on_texts(X_train)\n",
    "sequences = tokenizer.texts_to_sequences(X_train)\n",
    "word_index = tokenizer.word_index\n",
    "print('Found %s unique tokens.' % len(word_index))\n"
   ]
  },
  {
   "cell_type": "code",
   "execution_count": 15,
   "metadata": {},
   "outputs": [],
   "source": [
    "maxlen = 150"
   ]
  },
  {
   "cell_type": "code",
   "execution_count": 16,
   "metadata": {},
   "outputs": [
    {
     "name": "stdout",
     "output_type": "stream",
     "text": [
      "Shape of data tensor: (115864, 150)\n"
     ]
    }
   ],
   "source": [
    "data = pad_sequences(sequences, maxlen=maxlen)\n",
    "print('Shape of data tensor:', data.shape)\n",
    "indices = np.arange(data.shape[0])\n",
    "np.random.shuffle(indices)\n",
    "data = data[indices]\n",
    "# x_train = data[:training_samples]\n",
    "# x_val = data[training_samples: (training_samples + validation_samples)]\n",
    "# x_test = data[(training_samples + validation_samples) : ]"
   ]
  },
  {
   "cell_type": "code",
   "execution_count": 17,
   "metadata": {},
   "outputs": [
    {
     "name": "stdout",
     "output_type": "stream",
     "text": [
      "Shape of label tensor: (115864, 2)\n"
     ]
    }
   ],
   "source": [
    "# Prepare labels \n",
    "labels = np.asarray(one_hot_train_labels)\n",
    "print('Shape of label tensor:', labels.shape)\n",
    "labels = labels[indices]\n",
    "# y_train = labels[:training_samples]\n",
    "# y_val = labels[training_samples: training_samples + validation_samples]\n",
    "# y_test = labels[(training_samples + validation_samples) : ]"
   ]
  },
  {
   "cell_type": "code",
   "execution_count": 18,
   "metadata": {},
   "outputs": [],
   "source": [
    "#### Stratified Test Train Validation Split \n",
    "\n",
    "### First Lets do 60 and 40. \n",
    "\n",
    "X_train, X_test_validate, y_train, y_test_validate = train_test_split(data, labels,\n",
    "                                                    stratify=labels, \n",
    "                                                    test_size=0.40,\n",
    "                                                    random_state=123)\n",
    "\n",
    "\n"
   ]
  },
  {
   "cell_type": "code",
   "execution_count": 19,
   "metadata": {},
   "outputs": [],
   "source": [
    "### Then 20% for Testing and Validation \n",
    "\n",
    "X_test, X_validate, y_test, y_validate = train_test_split(X_test_validate, y_test_validate,\n",
    "                                                    stratify = y_test_validate, \n",
    "                                                    test_size=0.50,\n",
    "                                                    random_state=123)\n",
    "\n"
   ]
  },
  {
   "cell_type": "code",
   "execution_count": 20,
   "metadata": {},
   "outputs": [
    {
     "data": {
      "text/plain": [
       "115864"
      ]
     },
     "execution_count": 20,
     "metadata": {},
     "output_type": "execute_result"
    }
   ],
   "source": [
    "len(X_train)+len(X_test)+len(X_validate)\n"
   ]
  },
  {
   "cell_type": "code",
   "execution_count": 21,
   "metadata": {},
   "outputs": [],
   "source": [
    "ES = EarlyStopping(monitor='val_loss', mode='min', verbose=1, patience=2)"
   ]
  },
  {
   "cell_type": "code",
   "execution_count": 22,
   "metadata": {},
   "outputs": [
    {
     "name": "stdout",
     "output_type": "stream",
     "text": [
      "Model: \"sequential\"\n",
      "_________________________________________________________________\n",
      "Layer (type)                 Output Shape              Param #   \n",
      "=================================================================\n",
      "embedding (Embedding)        (None, None, 100)         1500000   \n",
      "_________________________________________________________________\n",
      "lstm (LSTM)                  (None, None, 128)         117248    \n",
      "_________________________________________________________________\n",
      "lstm_1 (LSTM)                (None, 64)                49408     \n",
      "_________________________________________________________________\n",
      "flatten (Flatten)            (None, 64)                0         \n",
      "_________________________________________________________________\n",
      "dense (Dense)                (None, 32)                2080      \n",
      "_________________________________________________________________\n",
      "dense_1 (Dense)              (None, 2)                 66        \n",
      "=================================================================\n",
      "Total params: 1,668,802\n",
      "Trainable params: 1,668,802\n",
      "Non-trainable params: 0\n",
      "_________________________________________________________________\n"
     ]
    }
   ],
   "source": [
    "from tensorflow.keras.layers import LSTM\n",
    "embedding_dim = 100\n",
    "model = Sequential()\n",
    "#embedding = Embedding(max_words, embedding_dim , weights =w)\n",
    "embedding = Embedding(max_words, embedding_dim)\n",
    "\n",
    "#embedding.trainable = False\n",
    "model.add(embedding)\n",
    "model.add(LSTM(128,return_sequences = True))\n",
    "model.add(LSTM(64))\n",
    "model.add(Flatten())\n",
    "model.add(Dense(32, activation='relu'))\n",
    "model.add(Dense(2, activation='sigmoid'))\n",
    "model.summary()"
   ]
  },
  {
   "cell_type": "code",
   "execution_count": 23,
   "metadata": {},
   "outputs": [
    {
     "name": "stdout",
     "output_type": "stream",
     "text": [
      "Train on 69518 samples, validate on 23173 samples\n",
      "Epoch 1/12\n",
      "69518/69518 [==============================] - 522s 8ms/sample - loss: 0.3859 - acc: 0.8391 - val_loss: 0.3249 - val_acc: 0.8723\n",
      "Epoch 2/12\n",
      "69518/69518 [==============================] - 482s 7ms/sample - loss: 0.3157 - acc: 0.8700 - val_loss: 0.3138 - val_acc: 0.8720\n",
      "Epoch 3/12\n",
      "69518/69518 [==============================] - 272s 4ms/sample - loss: 0.2910 - acc: 0.8792 - val_loss: 0.3207 - val_acc: 0.8718\n",
      "Epoch 4/12\n",
      "69518/69518 [==============================] - 276s 4ms/sample - loss: 0.2809 - acc: 0.8856 - val_loss: 0.3178 - val_acc: 0.8730\n",
      "Epoch 00004: early stopping\n"
     ]
    }
   ],
   "source": [
    "model.compile(optimizer='rmsprop',\n",
    "loss='binary_crossentropy',\n",
    "metrics=['acc'])\n",
    "history = model.fit(X_train, y_train,\n",
    "epochs= 12,\n",
    "batch_size=256,\n",
    "callbacks = [ES],\n",
    "validation_data=(X_validate, y_validate))"
   ]
  },
  {
   "cell_type": "code",
   "execution_count": 24,
   "metadata": {},
   "outputs": [],
   "source": [
    "model.save('LSTM_Model.h5')"
   ]
  },
  {
   "cell_type": "code",
   "execution_count": 25,
   "metadata": {},
   "outputs": [],
   "source": [
    "from tensorflow.keras.models import load_model"
   ]
  },
  {
   "cell_type": "code",
   "execution_count": 26,
   "metadata": {},
   "outputs": [],
   "source": [
    "model1 = load_model('LSTM_Model.h5')"
   ]
  },
  {
   "cell_type": "code",
   "execution_count": 27,
   "metadata": {},
   "outputs": [
    {
     "data": {
      "text/plain": [
       "(150,)"
      ]
     },
     "execution_count": 27,
     "metadata": {},
     "output_type": "execute_result"
    }
   ],
   "source": [
    "X_test[1].shape"
   ]
  },
  {
   "cell_type": "code",
   "execution_count": 28,
   "metadata": {},
   "outputs": [
    {
     "data": {
      "text/plain": [
       "(23173, 150)"
      ]
     },
     "execution_count": 28,
     "metadata": {},
     "output_type": "execute_result"
    }
   ],
   "source": [
    "X_test.shape"
   ]
  },
  {
   "cell_type": "code",
   "execution_count": 29,
   "metadata": {},
   "outputs": [],
   "source": [
    "test_output = model1.predict([X_test])"
   ]
  },
  {
   "cell_type": "code",
   "execution_count": 30,
   "metadata": {},
   "outputs": [
    {
     "data": {
      "text/plain": [
       "(23173, 2)"
      ]
     },
     "execution_count": 30,
     "metadata": {},
     "output_type": "execute_result"
    }
   ],
   "source": [
    "test_output.shape"
   ]
  },
  {
   "cell_type": "code",
   "execution_count": 31,
   "metadata": {},
   "outputs": [
    {
     "name": "stdout",
     "output_type": "stream",
     "text": [
      "Model: \"sequential\"\n",
      "_________________________________________________________________\n",
      "Layer (type)                 Output Shape              Param #   \n",
      "=================================================================\n",
      "embedding (Embedding)        (None, None, 100)         1500000   \n",
      "_________________________________________________________________\n",
      "lstm (LSTM)                  (None, None, 128)         117248    \n",
      "_________________________________________________________________\n",
      "lstm_1 (LSTM)                (None, 64)                49408     \n",
      "_________________________________________________________________\n",
      "flatten (Flatten)            (None, 64)                0         \n",
      "_________________________________________________________________\n",
      "dense (Dense)                (None, 32)                2080      \n",
      "_________________________________________________________________\n",
      "dense_1 (Dense)              (None, 2)                 66        \n",
      "=================================================================\n",
      "Total params: 1,668,802\n",
      "Trainable params: 1,668,802\n",
      "Non-trainable params: 0\n",
      "_________________________________________________________________\n"
     ]
    }
   ],
   "source": [
    "model1.summary()"
   ]
  },
  {
   "cell_type": "code",
   "execution_count": 34,
   "metadata": {},
   "outputs": [],
   "source": [
    "y_pred = np.argmax([test_output])"
   ]
  },
  {
   "cell_type": "code",
   "execution_count": 35,
   "metadata": {},
   "outputs": [
    {
     "data": {
      "text/plain": [
       "43110"
      ]
     },
     "execution_count": 35,
     "metadata": {},
     "output_type": "execute_result"
    }
   ],
   "source": [
    "y_pred"
   ]
  },
  {
   "cell_type": "code",
   "execution_count": 36,
   "metadata": {},
   "outputs": [
    {
     "data": {
      "text/plain": [
       "array([[0.9782787 , 0.02224443],\n",
       "       [0.85861987, 0.14641213],\n",
       "       [0.86725795, 0.1412558 ],\n",
       "       [0.96198946, 0.03913718],\n",
       "       [0.9292972 , 0.07594576]], dtype=float32)"
      ]
     },
     "execution_count": 36,
     "metadata": {},
     "output_type": "execute_result"
    }
   ],
   "source": [
    "test_output[0:5]"
   ]
  },
  {
   "cell_type": "code",
   "execution_count": 37,
   "metadata": {},
   "outputs": [],
   "source": [
    "y_pred = list(map(lambda x: np.argmax(x), test_output))\n",
    "y_test_bin = list(map(lambda x: np.argmax(x), y_test))"
   ]
  },
  {
   "cell_type": "code",
   "execution_count": 38,
   "metadata": {},
   "outputs": [],
   "source": [
    "from sklearn.metrics import confusion_matrix"
   ]
  },
  {
   "cell_type": "code",
   "execution_count": 39,
   "metadata": {},
   "outputs": [],
   "source": [
    "cfm = confusion_matrix(y_test_bin,y_pred)"
   ]
  },
  {
   "cell_type": "code",
   "execution_count": 40,
   "metadata": {},
   "outputs": [],
   "source": [
    "from sklearn.metrics import accuracy_score"
   ]
  },
  {
   "cell_type": "code",
   "execution_count": 41,
   "metadata": {},
   "outputs": [
    {
     "name": "stdout",
     "output_type": "stream",
     "text": [
      "0.8721788288093902\n"
     ]
    }
   ],
   "source": [
    "print(accuracy_score(y_test_bin,y_pred))"
   ]
  },
  {
   "cell_type": "code",
   "execution_count": 42,
   "metadata": {},
   "outputs": [],
   "source": [
    "from sklearn.metrics import classification_report"
   ]
  },
  {
   "cell_type": "code",
   "execution_count": 43,
   "metadata": {},
   "outputs": [],
   "source": [
    "report = classification_report(y_test_bin,y_pred)"
   ]
  },
  {
   "cell_type": "code",
   "execution_count": 44,
   "metadata": {},
   "outputs": [
    {
     "name": "stdout",
     "output_type": "stream",
     "text": [
      "              precision    recall  f1-score   support\n",
      "\n",
      "           0       0.90      0.94      0.92     17835\n",
      "           1       0.77      0.64      0.70      5338\n",
      "\n",
      "    accuracy                           0.87     23173\n",
      "   macro avg       0.83      0.79      0.81     23173\n",
      "weighted avg       0.87      0.87      0.87     23173\n",
      "\n"
     ]
    }
   ],
   "source": [
    "print(report)"
   ]
  },
  {
   "cell_type": "code",
   "execution_count": 45,
   "metadata": {},
   "outputs": [],
   "source": [
    "from sklearn.metrics import plot_confusion_matrix"
   ]
  },
  {
   "cell_type": "code",
   "execution_count": 46,
   "metadata": {},
   "outputs": [],
   "source": [
    "import numpy as np\n",
    "import matplotlib.pyplot as plt\n",
    "import seaborn as sns"
   ]
  },
  {
   "cell_type": "code",
   "execution_count": 47,
   "metadata": {},
   "outputs": [
    {
     "data": {
      "text/plain": [
       "Text(0.5, 257.44, 'Predicted label')"
      ]
     },
     "execution_count": 47,
     "metadata": {},
     "output_type": "execute_result"
    },
    {
     "data": {
      "image/png": "[encoded data removed]",
      "text/plain": [
       "<Figure size 432x288 with 2 Axes>"
      ]
     },
     "metadata": {
      "needs_background": "light"
     },
     "output_type": "display_data"
    }
   ],
   "source": [
    "class_names=[\"Non-Toxic\",\"Toxic\"] # name  of classes\n",
    "fig, ax = plt.subplots()\n",
    "tick_marks = np.arange(len(class_names))\n",
    "plt.xticks(tick_marks, class_names)\n",
    "plt.yticks(tick_marks, class_names)\n",
    "# create heatmap\n",
    "sns.heatmap(pd.DataFrame(cfm), annot=True, cmap=\"YlGnBu\" ,fmt='g')\n",
    "ax.xaxis.set_label_position(\"top\")\n",
    "plt.tight_layout()\n",
    "plt.title('Confusion matrix', y=1.1)\n",
    "plt.ylabel('Actual label')\n",
    "plt.xlabel('Predicted label')"
   ]
  },
  {
   "cell_type": "code",
   "execution_count": 48,
   "metadata": {},
   "outputs": [],
   "source": [
    "import string\n",
    "from nltk.tokenize import word_tokenize\n",
    "from nltk.corpus import stopwords "
   ]
  },
  {
   "cell_type": "code",
   "execution_count": 49,
   "metadata": {},
   "outputs": [
    {
     "name": "stdout",
     "output_type": "stream",
     "text": [
      "WARNING:tensorflow:From /Users/pankaj/anaconda/envs/nlp/lib/python3.7/site-packages/tensorflow_core/python/ops/resource_variable_ops.py:1786: calling BaseResourceVariable.__init__ (from tensorflow.python.ops.resource_variable_ops) with constraint is deprecated and will be removed in a future version.\n",
      "Instructions for updating:\n",
      "If using Keras pass *_constraint arguments to layers.\n"
     ]
    },
    {
     "name": "stderr",
     "output_type": "stream",
     "text": [
      "WARNING:tensorflow:From /Users/pankaj/anaconda/envs/nlp/lib/python3.7/site-packages/tensorflow_core/python/ops/resource_variable_ops.py:1786: calling BaseResourceVariable.__init__ (from tensorflow.python.ops.resource_variable_ops) with constraint is deprecated and will be removed in a future version.\n",
      "Instructions for updating:\n",
      "If using Keras pass *_constraint arguments to layers.\n"
     ]
    }
   ],
   "source": [
    "#### Testing ELMO\n",
    "\n",
    "import tensorflow_hub as hub\n",
    "\n",
    "module_url = \"https://tfhub.dev/google/elmo/3\"\n",
    "embed = hub.load(module_url)"
   ]
  },
  {
   "cell_type": "code",
   "execution_count": 50,
   "metadata": {},
   "outputs": [
    {
     "data": {
      "text/html": [
       "<div>\n",
       "<style scoped>\n",
       "    .dataframe tbody tr th:only-of-type {\n",
       "        vertical-align: middle;\n",
       "    }\n",
       "\n",
       "    .dataframe tbody tr th {\n",
       "        vertical-align: top;\n",
       "    }\n",
       "\n",
       "    .dataframe thead th {\n",
       "        text-align: right;\n",
       "    }\n",
       "</style>\n",
       "<table border=\"1\" class=\"dataframe\">\n",
       "  <thead>\n",
       "    <tr style=\"text-align: right;\">\n",
       "      <th></th>\n",
       "      <th>Unnamed: 0</th>\n",
       "      <th>rev_id</th>\n",
       "      <th>comment</th>\n",
       "      <th>year</th>\n",
       "      <th>logged_in</th>\n",
       "      <th>ns</th>\n",
       "      <th>sample</th>\n",
       "      <th>split</th>\n",
       "      <th>worker_id</th>\n",
       "      <th>quoting_attack</th>\n",
       "      <th>recipient_attack</th>\n",
       "      <th>third_party_attack</th>\n",
       "      <th>other_attack</th>\n",
       "      <th>attack</th>\n",
       "      <th>new_attack</th>\n",
       "    </tr>\n",
       "  </thead>\n",
       "  <tbody>\n",
       "    <tr>\n",
       "      <th>0</th>\n",
       "      <td>0</td>\n",
       "      <td>37675</td>\n",
       "      <td>`-NEWLINE_TOKENThis is not ``creative``.  Thos...</td>\n",
       "      <td>2002</td>\n",
       "      <td>False</td>\n",
       "      <td>article</td>\n",
       "      <td>random</td>\n",
       "      <td>train</td>\n",
       "      <td>9721</td>\n",
       "      <td>0.0</td>\n",
       "      <td>0</td>\n",
       "      <td>0.0</td>\n",
       "      <td>0.0</td>\n",
       "      <td>0.0</td>\n",
       "      <td>0</td>\n",
       "    </tr>\n",
       "    <tr>\n",
       "      <th>1</th>\n",
       "      <td>1</td>\n",
       "      <td>44816</td>\n",
       "      <td>`NEWLINE_TOKENNEWLINE_TOKEN:: the term ``stand...</td>\n",
       "      <td>2002</td>\n",
       "      <td>False</td>\n",
       "      <td>article</td>\n",
       "      <td>random</td>\n",
       "      <td>train</td>\n",
       "      <td>20234</td>\n",
       "      <td>0.0</td>\n",
       "      <td>0</td>\n",
       "      <td>0.0</td>\n",
       "      <td>0.0</td>\n",
       "      <td>0.0</td>\n",
       "      <td>0</td>\n",
       "    </tr>\n",
       "    <tr>\n",
       "      <th>2</th>\n",
       "      <td>2</td>\n",
       "      <td>49851</td>\n",
       "      <td>NEWLINE_TOKENNEWLINE_TOKENTrue or false, the s...</td>\n",
       "      <td>2002</td>\n",
       "      <td>False</td>\n",
       "      <td>article</td>\n",
       "      <td>random</td>\n",
       "      <td>train</td>\n",
       "      <td>26474</td>\n",
       "      <td>0.0</td>\n",
       "      <td>0</td>\n",
       "      <td>0.0</td>\n",
       "      <td>0.0</td>\n",
       "      <td>0.0</td>\n",
       "      <td>0</td>\n",
       "    </tr>\n",
       "    <tr>\n",
       "      <th>3</th>\n",
       "      <td>3</td>\n",
       "      <td>89320</td>\n",
       "      <td>Next, maybe you could work on being less cond...</td>\n",
       "      <td>2002</td>\n",
       "      <td>True</td>\n",
       "      <td>article</td>\n",
       "      <td>random</td>\n",
       "      <td>dev</td>\n",
       "      <td>26738</td>\n",
       "      <td>0.0</td>\n",
       "      <td>1</td>\n",
       "      <td>0.0</td>\n",
       "      <td>2.0</td>\n",
       "      <td>4.0</td>\n",
       "      <td>1</td>\n",
       "    </tr>\n",
       "    <tr>\n",
       "      <th>4</th>\n",
       "      <td>4</td>\n",
       "      <td>93890</td>\n",
       "      <td>This page will need disambiguation.</td>\n",
       "      <td>2002</td>\n",
       "      <td>True</td>\n",
       "      <td>article</td>\n",
       "      <td>random</td>\n",
       "      <td>train</td>\n",
       "      <td>8010</td>\n",
       "      <td>0.0</td>\n",
       "      <td>0</td>\n",
       "      <td>0.0</td>\n",
       "      <td>0.0</td>\n",
       "      <td>0.0</td>\n",
       "      <td>0</td>\n",
       "    </tr>\n",
       "  </tbody>\n",
       "</table>\n",
       "</div>"
      ],
      "text/plain": [
       "   Unnamed: 0  rev_id                                            comment  \\\n",
       "0           0   37675  `-NEWLINE_TOKENThis is not ``creative``.  Thos...   \n",
       "1           1   44816  `NEWLINE_TOKENNEWLINE_TOKEN:: the term ``stand...   \n",
       "2           2   49851  NEWLINE_TOKENNEWLINE_TOKENTrue or false, the s...   \n",
       "3           3   89320   Next, maybe you could work on being less cond...   \n",
       "4           4   93890               This page will need disambiguation.    \n",
       "\n",
       "   year  logged_in       ns  sample  split  worker_id  quoting_attack  \\\n",
       "0  2002      False  article  random  train       9721             0.0   \n",
       "1  2002      False  article  random  train      20234             0.0   \n",
       "2  2002      False  article  random  train      26474             0.0   \n",
       "3  2002       True  article  random    dev      26738             0.0   \n",
       "4  2002       True  article  random  train       8010             0.0   \n",
       "\n",
       "   recipient_attack  third_party_attack  other_attack  attack  new_attack  \n",
       "0                 0                 0.0           0.0     0.0           0  \n",
       "1                 0                 0.0           0.0     0.0           0  \n",
       "2                 0                 0.0           0.0     0.0           0  \n",
       "3                 1                 0.0           2.0     4.0           1  \n",
       "4                 0                 0.0           0.0     0.0           0  "
      ]
     },
     "execution_count": 50,
     "metadata": {},
     "output_type": "execute_result"
    }
   ],
   "source": [
    "merged_comments.head()"
   ]
  },
  {
   "cell_type": "code",
   "execution_count": 51,
   "metadata": {},
   "outputs": [],
   "source": [
    "X_train, X_test_validate, y_train, y_test_validate = train_test_split(merged_comments.comment, merged_comments.recipient_attack,\n",
    "                                                    stratify=labels, \n",
    "                                                    test_size=0.40,\n",
    "                                                    random_state=123)"
   ]
  },
  {
   "cell_type": "code",
   "execution_count": 52,
   "metadata": {},
   "outputs": [],
   "source": [
    "DF_train = X_train.to_frame()"
   ]
  },
  {
   "cell_type": "code",
   "execution_count": 53,
   "metadata": {},
   "outputs": [],
   "source": [
    "DF_train['recipient_attack'] = y_train"
   ]
  },
  {
   "cell_type": "code",
   "execution_count": 54,
   "metadata": {},
   "outputs": [
    {
     "data": {
      "text/html": [
       "<div>\n",
       "<style scoped>\n",
       "    .dataframe tbody tr th:only-of-type {\n",
       "        vertical-align: middle;\n",
       "    }\n",
       "\n",
       "    .dataframe tbody tr th {\n",
       "        vertical-align: top;\n",
       "    }\n",
       "\n",
       "    .dataframe thead th {\n",
       "        text-align: right;\n",
       "    }\n",
       "</style>\n",
       "<table border=\"1\" class=\"dataframe\">\n",
       "  <thead>\n",
       "    <tr style=\"text-align: right;\">\n",
       "      <th></th>\n",
       "      <th>comment</th>\n",
       "      <th>recipient_attack</th>\n",
       "    </tr>\n",
       "  </thead>\n",
       "  <tbody>\n",
       "    <tr>\n",
       "      <th>58670</th>\n",
       "      <td>REDIRECT Talk:Cao Lộc District</td>\n",
       "      <td>0</td>\n",
       "    </tr>\n",
       "    <tr>\n",
       "      <th>107001</th>\n",
       "      <td>NEWLINE_TOKENNEWLINE_TOKEN::::: this was done ...</td>\n",
       "      <td>0</td>\n",
       "    </tr>\n",
       "    <tr>\n",
       "      <th>39464</th>\n",
       "      <td>NEWLINE_TOKENNEWLINE_TOKENIt's not a database ...</td>\n",
       "      <td>0</td>\n",
       "    </tr>\n",
       "    <tr>\n",
       "      <th>19077</th>\n",
       "      <td>NEWLINE_TOKENNEWLINE_TOKENwhat for 1 thing i d...</td>\n",
       "      <td>1</td>\n",
       "    </tr>\n",
       "    <tr>\n",
       "      <th>108086</th>\n",
       "      <td>He told me his DJ, DJsuckafree took the pic.NE...</td>\n",
       "      <td>0</td>\n",
       "    </tr>\n",
       "  </tbody>\n",
       "</table>\n",
       "</div>"
      ],
      "text/plain": [
       "                                                  comment  recipient_attack\n",
       "58670                      REDIRECT Talk:Cao Lộc District                 0\n",
       "107001  NEWLINE_TOKENNEWLINE_TOKEN::::: this was done ...                 0\n",
       "39464   NEWLINE_TOKENNEWLINE_TOKENIt's not a database ...                 0\n",
       "19077   NEWLINE_TOKENNEWLINE_TOKENwhat for 1 thing i d...                 1\n",
       "108086  He told me his DJ, DJsuckafree took the pic.NE...                 0"
      ]
     },
     "execution_count": 54,
     "metadata": {},
     "output_type": "execute_result"
    }
   ],
   "source": [
    "DF_train.head()"
   ]
  },
  {
   "cell_type": "code",
   "execution_count": 55,
   "metadata": {},
   "outputs": [],
   "source": [
    "DF_train.reset_index(inplace=True)"
   ]
  },
  {
   "cell_type": "code",
   "execution_count": 56,
   "metadata": {},
   "outputs": [
    {
     "data": {
      "text/html": [
       "<div>\n",
       "<style scoped>\n",
       "    .dataframe tbody tr th:only-of-type {\n",
       "        vertical-align: middle;\n",
       "    }\n",
       "\n",
       "    .dataframe tbody tr th {\n",
       "        vertical-align: top;\n",
       "    }\n",
       "\n",
       "    .dataframe thead th {\n",
       "        text-align: right;\n",
       "    }\n",
       "</style>\n",
       "<table border=\"1\" class=\"dataframe\">\n",
       "  <thead>\n",
       "    <tr style=\"text-align: right;\">\n",
       "      <th></th>\n",
       "      <th>index</th>\n",
       "      <th>comment</th>\n",
       "      <th>recipient_attack</th>\n",
       "    </tr>\n",
       "  </thead>\n",
       "  <tbody>\n",
       "    <tr>\n",
       "      <th>0</th>\n",
       "      <td>58670</td>\n",
       "      <td>REDIRECT Talk:Cao Lộc District</td>\n",
       "      <td>0</td>\n",
       "    </tr>\n",
       "    <tr>\n",
       "      <th>1</th>\n",
       "      <td>107001</td>\n",
       "      <td>NEWLINE_TOKENNEWLINE_TOKEN::::: this was done ...</td>\n",
       "      <td>0</td>\n",
       "    </tr>\n",
       "    <tr>\n",
       "      <th>2</th>\n",
       "      <td>39464</td>\n",
       "      <td>NEWLINE_TOKENNEWLINE_TOKENIt's not a database ...</td>\n",
       "      <td>0</td>\n",
       "    </tr>\n",
       "    <tr>\n",
       "      <th>3</th>\n",
       "      <td>19077</td>\n",
       "      <td>NEWLINE_TOKENNEWLINE_TOKENwhat for 1 thing i d...</td>\n",
       "      <td>1</td>\n",
       "    </tr>\n",
       "    <tr>\n",
       "      <th>4</th>\n",
       "      <td>108086</td>\n",
       "      <td>He told me his DJ, DJsuckafree took the pic.NE...</td>\n",
       "      <td>0</td>\n",
       "    </tr>\n",
       "  </tbody>\n",
       "</table>\n",
       "</div>"
      ],
      "text/plain": [
       "    index                                            comment  recipient_attack\n",
       "0   58670                     REDIRECT Talk:Cao Lộc District                 0\n",
       "1  107001  NEWLINE_TOKENNEWLINE_TOKEN::::: this was done ...                 0\n",
       "2   39464  NEWLINE_TOKENNEWLINE_TOKENIt's not a database ...                 0\n",
       "3   19077  NEWLINE_TOKENNEWLINE_TOKENwhat for 1 thing i d...                 1\n",
       "4  108086  He told me his DJ, DJsuckafree took the pic.NE...                 0"
      ]
     },
     "execution_count": 56,
     "metadata": {},
     "output_type": "execute_result"
    }
   ],
   "source": [
    "DF_train.head()"
   ]
  },
  {
   "cell_type": "code",
   "execution_count": 57,
   "metadata": {},
   "outputs": [],
   "source": [
    "def preprocess_text(text_eval):\n",
    "    sequences = tokenizer.texts_to_sequences([text_eval])\n",
    "    data = pad_sequences(sequences, maxlen=maxlen)\n",
    "    return data"
   ]
  },
  {
   "cell_type": "code",
   "execution_count": 58,
   "metadata": {},
   "outputs": [
    {
     "data": {
      "text/plain": [
       "RangeIndex(start=0, stop=10, step=1)"
      ]
     },
     "execution_count": 58,
     "metadata": {},
     "output_type": "execute_result"
    }
   ],
   "source": [
    "DF_train.index[0:10]"
   ]
  },
  {
   "cell_type": "code",
   "execution_count": 59,
   "metadata": {},
   "outputs": [],
   "source": [
    "NAE_vals_array = np.empty((0,1024), float)\n",
    "PAE_vals_array = np.empty((0,1024), float)"
   ]
  },
  {
   "cell_type": "code",
   "execution_count": 60,
   "metadata": {},
   "outputs": [
    {
     "data": {
      "text/plain": [
       "array([], shape=(0, 1024), dtype=float64)"
      ]
     },
     "execution_count": 60,
     "metadata": {},
     "output_type": "execute_result"
    }
   ],
   "source": [
    "NAE_vals_array"
   ]
  },
  {
   "cell_type": "code",
   "execution_count": 61,
   "metadata": {},
   "outputs": [
    {
     "data": {
      "text/plain": [
       "array([], shape=(0, 1024), dtype=float64)"
      ]
     },
     "execution_count": 61,
     "metadata": {},
     "output_type": "execute_result"
    }
   ],
   "source": [
    "PAE_vals_array"
   ]
  },
  {
   "cell_type": "code",
   "execution_count": 62,
   "metadata": {},
   "outputs": [
    {
     "name": "stdout",
     "output_type": "stream",
     "text": [
      "PAE\n",
      "3\n",
      "PAE\n",
      "6\n",
      "PAE\n",
      "9\n",
      "NAE\n",
      "3\n",
      "PAE\n",
      "12\n",
      "PAE\n",
      "15\n",
      "PAE\n",
      "18\n",
      "NAE\n",
      "6\n",
      "PAE\n",
      "21\n",
      "PAE\n",
      "24\n",
      "PAE\n",
      "27\n",
      "PAE\n",
      "30\n",
      "NAE\n",
      "9\n",
      "PAE\n",
      "33\n",
      "PAE\n",
      "36\n",
      "PAE\n",
      "39\n",
      "PAE\n",
      "42\n",
      "PAE\n",
      "45\n",
      "PAE\n",
      "48\n",
      "PAE\n",
      "51\n",
      "PAE\n",
      "54\n"
     ]
    }
   ],
   "source": [
    "### Abalation and Get the Vectors of the important trigrams \n",
    "\n",
    "NAE_vals_array = np.empty((0,1024), float)\n",
    "PAE_vals_array = np.empty((0,1024), float)\n",
    "\n",
    "for index, row in DF_train.iterrows():\n",
    "    \n",
    "    text = row.comment.translate(str.maketrans('','',string.punctuation))\n",
    "    tokens = word_tokenize(text)\n",
    "    tokens_without_sw = [word for word in tokens if not word in stopwords.words()]\n",
    "    \n",
    "    ### First Get the overall Classification\n",
    "    \n",
    "    pred_vlaues = model.predict(preprocess_text(str(tokens_without_sw)))\n",
    "    \n",
    "    classification = pred_vlaues.argmax()\n",
    "    \n",
    "    if classification == 0 and row.recipient_attack == 0:\n",
    "        mode = 'PAE' # Positive AutoEncoder\n",
    "    elif classification == 0 and row.recipient_attack == 1:\n",
    "        mode = 'NAE'\n",
    "    elif classification == 1 and row.recipient_attack == 0:\n",
    "        mode = 'PAE'\n",
    "    elif classification == 1 and row.recipient_attack == 1:\n",
    "        mode = 'NAE'\n",
    "        \n",
    "    ### Get the Elmo vector\n",
    "    \n",
    "    text=tf.convert_to_tensor([str(tokens_without_sw)])\n",
    "    out = embed.signatures['default'](text)['elmo']\n",
    "  \n",
    "    pred_vals_array = np.empty((0,2), float)\n",
    "    \n",
    "    for i in range(len(tokens_without_sw)-2):\n",
    "        \n",
    "        \n",
    "        \n",
    "        text_eval = tokens_without_sw[i:i+3]\n",
    "\n",
    "        a = preprocess_text(str(text_eval))\n",
    "        pred_vlaues = model.predict(a)\n",
    "        pred_vals_array = np.vstack((pred_vals_array,pred_vlaues))\n",
    "        \n",
    "    if mode == \"NAE\":\n",
    "\n",
    "        # Only Negative Vals, and find the index of the highest contributing phrase\n",
    "\n",
    "        phrase_start_index = pred_vals_array[:,1].argmax()\n",
    "\n",
    "        ### Get the ELMO Encoding of the entire vector:\n",
    "\n",
    "        elmo_vecs = np.array(out[0][phrase_start_index:phrase_start_index+3])\n",
    "\n",
    "        NAE_vals_array = np.vstack((NAE_vals_array, elmo_vecs))\n",
    "        \n",
    "        print(\"NAE\")\n",
    "        print(len(NAE_vals_array))\n",
    "\n",
    "    elif mode == \"PAE\":\n",
    "\n",
    "        # Only Positive Vals, and find the index of the highest contributing phrase\n",
    "\n",
    "        phrase_start_index = pred_vals_array[:,0].argmax()\n",
    "\n",
    "        PAE_vals_array = np.vstack((PAE_vals_array,out[0][phrase_start_index:phrase_start_index+3]))\n",
    "        \n",
    "        print(\"PAE\")\n",
    "        print(len(PAE_vals_array))\n",
    "\n",
    "    if index == 20:\n",
    "        break"
   ]
  },
  {
   "cell_type": "code",
   "execution_count": 63,
   "metadata": {},
   "outputs": [
    {
     "data": {
      "text/plain": [
       "(9, 1024)"
      ]
     },
     "execution_count": 63,
     "metadata": {},
     "output_type": "execute_result"
    }
   ],
   "source": [
    "NAE_vals_array.shape"
   ]
  },
  {
   "cell_type": "code",
   "execution_count": 64,
   "metadata": {},
   "outputs": [
    {
     "data": {
      "text/plain": [
       "(54, 1024)"
      ]
     },
     "execution_count": 64,
     "metadata": {},
     "output_type": "execute_result"
    }
   ],
   "source": [
    "PAE_vals_array.shape"
   ]
  },
  {
   "cell_type": "code",
   "execution_count": 65,
   "metadata": {},
   "outputs": [],
   "source": [
    "NAE_vals_array = NAE_vals_array.reshape(int(NAE_vals_array.shape[0]/3),3,1024)\n",
    "PAE_vals_array = PAE_vals_array.reshape(int(PAE_vals_array.shape[0]/3),3,1024)\n"
   ]
  },
  {
   "cell_type": "code",
   "execution_count": 66,
   "metadata": {},
   "outputs": [
    {
     "data": {
      "text/plain": [
       "(18, 3, 1024)"
      ]
     },
     "execution_count": 66,
     "metadata": {},
     "output_type": "execute_result"
    }
   ],
   "source": [
    "PAE_vals_array.shape"
   ]
  },
  {
   "cell_type": "code",
   "execution_count": 67,
   "metadata": {},
   "outputs": [],
   "source": [
    "# lstm autoencoder to recreate a timeseries\n",
    "import numpy as np\n",
    "from tensorflow.keras.models import Sequential\n",
    "from tensorflow.keras.layers import LSTM\n",
    "from tensorflow.keras.layers import Dense\n",
    "from tensorflow.keras.layers import RepeatVector\n",
    "from tensorflow.keras.layers import TimeDistributed\n",
    "from tensorflow.keras.callbacks import EarlyStopping"
   ]
  },
  {
   "cell_type": "code",
   "execution_count": 68,
   "metadata": {},
   "outputs": [
    {
     "name": "stdout",
     "output_type": "stream",
     "text": [
      "Model: \"sequential_1\"\n",
      "_________________________________________________________________\n",
      "Layer (type)                 Output Shape              Param #   \n",
      "=================================================================\n",
      "lstm_2 (LSTM)                (None, 3, 1024)           8392704   \n",
      "_________________________________________________________________\n",
      "lstm_3 (LSTM)                (None, 3, 720)            5025600   \n",
      "_________________________________________________________________\n",
      "lstm_4 (LSTM)                (None, 3, 128)            434688    \n",
      "_________________________________________________________________\n",
      "lstm_5 (LSTM)                (None, 64)                49408     \n",
      "_________________________________________________________________\n",
      "repeat_vector (RepeatVector) (None, 3, 64)             0         \n",
      "_________________________________________________________________\n",
      "lstm_6 (LSTM)                (None, 3, 64)             33024     \n",
      "_________________________________________________________________\n",
      "lstm_7 (LSTM)                (None, 3, 128)            98816     \n",
      "_________________________________________________________________\n",
      "lstm_8 (LSTM)                (None, 3, 720)            2445120   \n",
      "_________________________________________________________________\n",
      "lstm_9 (LSTM)                (None, 3, 1027)           7180784   \n",
      "_________________________________________________________________\n",
      "time_distributed (TimeDistri (None, 3, 1024)           1052672   \n",
      "=================================================================\n",
      "Total params: 24,712,816\n",
      "Trainable params: 24,712,816\n",
      "Non-trainable params: 0\n",
      "_________________________________________________________________\n"
     ]
    }
   ],
   "source": [
    "timesteps = 3\n",
    "n_features = 1024\n",
    "es = EarlyStopping(monitor='val_loss', mode='min', verbose=1)\n",
    "\n",
    "# define model\n",
    "model_PAE = Sequential()\n",
    "model_PAE .add(LSTM(1024, activation='relu', input_shape=(timesteps,n_features), return_sequences=True))\n",
    "model_PAE .add(LSTM(720, activation='relu', input_shape=(timesteps,n_features), return_sequences=True))\n",
    "model_PAE .add(LSTM(128, activation='relu', input_shape=(timesteps,n_features), return_sequences=True))\n",
    "model_PAE .add(LSTM(64, activation='relu', return_sequences=False))\n",
    "model_PAE .add(RepeatVector(timesteps))\n",
    "model_PAE .add(LSTM(64, activation='relu', return_sequences=True))\n",
    "model_PAE .add(LSTM(128, activation='relu', return_sequences=True))\n",
    "model_PAE .add(LSTM(720, activation='relu', return_sequences=True))\n",
    "model_PAE .add(LSTM(1027, activation='relu', return_sequences=True))\n",
    "model_PAE .add(TimeDistributed(Dense(n_features)))\n",
    "model_PAE .compile(optimizer='adam', loss='mse')\n",
    "model_PAE.summary()"
   ]
  },
  {
   "cell_type": "code",
   "execution_count": 69,
   "metadata": {},
   "outputs": [
    {
     "name": "stdout",
     "output_type": "stream",
     "text": [
      "Train on 18 samples\n",
      "Epoch 1/3\n",
      "18/18 [==============================] - 8s 423ms/sample - loss: 0.3173\n",
      "Epoch 2/3\n",
      "18/18 [==============================] - 1s 55ms/sample - loss: 0.3137\n",
      "Epoch 3/3\n",
      "18/18 [==============================] - 1s 54ms/sample - loss: 0.3071\n"
     ]
    },
    {
     "data": {
      "text/plain": [
       "<tensorflow.python.keras.callbacks.History at 0x1a49ce7710>"
      ]
     },
     "execution_count": 69,
     "metadata": {},
     "output_type": "execute_result"
    }
   ],
   "source": [
    "model_PAE.fit(PAE_vals_array, PAE_vals_array, epochs=3, batch_size=5)"
   ]
  },
  {
   "cell_type": "code",
   "execution_count": null,
   "metadata": {},
   "outputs": [],
   "source": []
  },
  {
   "cell_type": "code",
   "execution_count": 70,
   "metadata": {},
   "outputs": [
    {
     "name": "stdout",
     "output_type": "stream",
     "text": [
      "Model: \"sequential_2\"\n",
      "_________________________________________________________________\n",
      "Layer (type)                 Output Shape              Param #   \n",
      "=================================================================\n",
      "lstm_10 (LSTM)               (None, 3, 1024)           8392704   \n",
      "_________________________________________________________________\n",
      "lstm_11 (LSTM)               (None, 3, 720)            5025600   \n",
      "_________________________________________________________________\n",
      "lstm_12 (LSTM)               (None, 3, 128)            434688    \n",
      "_________________________________________________________________\n",
      "lstm_13 (LSTM)               (None, 64)                49408     \n",
      "_________________________________________________________________\n",
      "repeat_vector_1 (RepeatVecto (None, 3, 64)             0         \n",
      "_________________________________________________________________\n",
      "lstm_14 (LSTM)               (None, 3, 64)             33024     \n",
      "_________________________________________________________________\n",
      "lstm_15 (LSTM)               (None, 3, 128)            98816     \n",
      "_________________________________________________________________\n",
      "lstm_16 (LSTM)               (None, 3, 720)            2445120   \n",
      "_________________________________________________________________\n",
      "lstm_17 (LSTM)               (None, 3, 1027)           7180784   \n",
      "_________________________________________________________________\n",
      "time_distributed_1 (TimeDist (None, 3, 1024)           1052672   \n",
      "=================================================================\n",
      "Total params: 24,712,816\n",
      "Trainable params: 24,712,816\n",
      "Non-trainable params: 0\n",
      "_________________________________________________________________\n"
     ]
    }
   ],
   "source": [
    "timesteps = 3\n",
    "n_features = 1024\n",
    "es = EarlyStopping(monitor='val_loss', mode='min', verbose=1)\n",
    "\n",
    "# define model\n",
    "model_NAE = Sequential()\n",
    "model_NAE .add(LSTM(1024, activation='relu', input_shape=(timesteps,n_features), return_sequences=True))\n",
    "model_NAE .add(LSTM(720, activation='relu', input_shape=(timesteps,n_features), return_sequences=True))\n",
    "model_NAE .add(LSTM(128, activation='relu', input_shape=(timesteps,n_features), return_sequences=True))\n",
    "model_NAE .add(LSTM(64, activation='relu', return_sequences=False))\n",
    "model_NAE .add(RepeatVector(timesteps))\n",
    "model_NAE .add(LSTM(64, activation='relu', return_sequences=True))\n",
    "model_NAE .add(LSTM(128, activation='relu', return_sequences=True))\n",
    "model_NAE .add(LSTM(720, activation='relu', return_sequences=True))\n",
    "model_NAE .add(LSTM(1027, activation='relu', return_sequences=True))\n",
    "model_NAE .add(TimeDistributed(Dense(n_features)))\n",
    "model_NAE .compile(optimizer='adam', loss='mse')\n",
    "model_NAE.summary()"
   ]
  },
  {
   "cell_type": "code",
   "execution_count": 71,
   "metadata": {},
   "outputs": [
    {
     "name": "stdout",
     "output_type": "stream",
     "text": [
      "Train on 3 samples\n",
      "Epoch 1/3\n",
      "3/3 [==============================] - 7s 2s/sample - loss: 0.3000\n",
      "Epoch 2/3\n",
      "3/3 [==============================] - 0s 83ms/sample - loss: 0.2992\n",
      "Epoch 3/3\n",
      "3/3 [==============================] - 0s 71ms/sample - loss: 0.2984\n"
     ]
    },
    {
     "data": {
      "text/plain": [
       "<tensorflow.python.keras.callbacks.History at 0x1a4ac16610>"
      ]
     },
     "execution_count": 71,
     "metadata": {},
     "output_type": "execute_result"
    }
   ],
   "source": [
    "model_NAE.fit(NAE_vals_array, NAE_vals_array, epochs=3, batch_size=5)"
   ]
  },
  {
   "cell_type": "code",
   "execution_count": 160,
   "metadata": {},
   "outputs": [],
   "source": [
    "from sklearn.metrics.pairwise import cosine_similarity \n",
    "from scipy.spatial import distance"
   ]
  },
  {
   "cell_type": "code",
   "execution_count": 171,
   "metadata": {},
   "outputs": [],
   "source": [
    "text = \"this is a good boy here\"\n",
    "tokens_without_sw = text#\"this is a\"\n",
    "    ### Get the Elmo vector\n",
    "text=tf.convert_to_tensor([str(tokens_without_sw)])\n",
    "out = embed.signatures['default'](text)['elmo']\n",
    "negative_distances = []\n",
    "positive_distances = []\n",
    "\n",
    "for i in range(out.shape[1] -2):\n",
    "    text_eval = [out[0:, i:i+3,:]]\n",
    "    pred_n_vlaues = model_NAE.predict(text_eval)\n",
    "    pred_p_vlaues = model_PAE.predict(text_eval)\n",
    "    dist_p=0\n",
    "    dist_n=0\n",
    "    for i in range(3):\n",
    "        dist_p +=distance.cosine(pred_p_vlaues[0][i], text_eval[0][0][i])\n",
    "        dist_n +=distance.cosine(pred_n_vlaues[0][i], text_eval[0][0][i])\n",
    "    negative_distances.append(dist_n)\n",
    "    positive_distances.append(dist_p)\n",
    "\n",
    "    #TODO change the formulaa\n",
    "pred_label = 1 if max(positive_distances) >  min(negative_distances) else 0"
   ]
  },
  {
   "cell_type": "code",
   "execution_count": 168,
   "metadata": {},
   "outputs": [
    {
     "data": {
      "text/plain": [
       "<tf.Tensor: shape=(1024,), dtype=float32, numpy=\n",
       "array([ 0.0090228 , -0.05452192, -0.213696  , ...,  0.46752727,\n",
       "        0.2508126 ,  0.06227742], dtype=float32)>"
      ]
     },
     "execution_count": 168,
     "metadata": {},
     "output_type": "execute_result"
    }
   ],
   "source": [
    "text_eval[0][0][1]"
   ]
  },
  {
   "cell_type": "code",
   "execution_count": 172,
   "metadata": {},
   "outputs": [
    {
     "data": {
      "text/plain": [
       "[2.768782440572977, 2.7451683171093464, 2.690919555723667, 2.547405555844307]"
      ]
     },
     "execution_count": 172,
     "metadata": {},
     "output_type": "execute_result"
    }
   ],
   "source": [
    "negative_distances"
   ]
  },
  {
   "cell_type": "code",
   "execution_count": 173,
   "metadata": {},
   "outputs": [
    {
     "data": {
      "text/plain": [
       "[2.7802252918481827, 2.784371979534626, 2.7074247673153877, 2.544760301709175]"
      ]
     },
     "execution_count": 173,
     "metadata": {},
     "output_type": "execute_result"
    }
   ],
   "source": [
    "positive_distances"
   ]
  },
  {
   "cell_type": "code",
   "execution_count": 174,
   "metadata": {},
   "outputs": [],
   "source": [
    "pred_label = 1 if max(positive_distances) >  min(negative_distances) else 0"
   ]
  },
  {
   "cell_type": "code",
   "execution_count": 175,
   "metadata": {},
   "outputs": [
    {
     "data": {
      "text/plain": [
       "1"
      ]
     },
     "execution_count": 175,
     "metadata": {},
     "output_type": "execute_result"
    }
   ],
   "source": [
    "pred_label"
   ]
  }
 ],
 "metadata": {
  "kernelspec": {
   "display_name": "Python 3",
   "language": "python",
   "name": "python3"
  },
  "language_info": {
   "codemirror_mode": {
    "name": "ipython",
    "version": 3
   },
   "file_extension": ".py",
   "mimetype": "text/x-python",
   "name": "python",
   "nbconvert_exporter": "python",
   "pygments_lexer": "ipython3",
   "version": "3.7.6"
  }
 },
 "nbformat": 4,
 "nbformat_minor": 4
}
