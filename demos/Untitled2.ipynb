{
 "cells": [
  {
   "cell_type": "code",
   "execution_count": 1,
   "metadata": {},
   "outputs": [],
   "source": [
    "from tensorflow.keras.models import Sequential\n",
    "from tensorflow.keras.layers import Embedding,  SimpleRNN\n",
    "from tensorflow.keras.utils import plot_model\n",
    "from tensorflow.keras.datasets import imdb\n",
    "from tensorflow.keras.preprocessing import sequence\n",
    "import matplotlib.pyplot as plt\n",
    "from tensorflow.keras.layers import Dense\n",
    "import numpy as np"
   ]
  },
  {
   "cell_type": "code",
   "execution_count": 119,
   "metadata": {},
   "outputs": [],
   "source": [
    "max_features= 10000\n",
    "max_len = 500\n",
    "batch_size = 32"
   ]
  },
  {
   "cell_type": "code",
   "execution_count": 120,
   "metadata": {},
   "outputs": [],
   "source": [
    "(input_train , y_train) , (input_test, y_test) = imdb.load_data(num_words = max_features)"
   ]
  },
  {
   "cell_type": "code",
   "execution_count": 121,
   "metadata": {},
   "outputs": [],
   "source": [
    "input_train = sequence.pad_sequences(input_train, maxlen=max_len)\n",
    "input_test = sequence.pad_sequences(input_test, maxlen=max_len)"
   ]
  },
  {
   "cell_type": "code",
   "execution_count": 122,
   "metadata": {},
   "outputs": [],
   "source": [
    "reversed_word_index= {value:key for key , value in imdb.get_word_index().items()}\n",
    "word_index=  imdb.get_word_index() "
   ]
  },
  {
   "cell_type": "code",
   "execution_count": 143,
   "metadata": {},
   "outputs": [
    {
     "name": "stdout",
     "output_type": "stream",
     "text": [
      "find\n",
      "get\n",
      "781\n",
      "37\n"
     ]
    }
   ],
   "source": [
    "print(reversed_word_index[166])\n",
    "print(reversed_word_index[76])\n",
    "print( word_index['hate'])\n",
    "print( word_index['like'])"
   ]
  },
  {
   "cell_type": "code",
   "execution_count": 176,
   "metadata": {
    "scrolled": false
   },
   "outputs": [],
   "source": [
    "model = Sequential()\n",
    "model.add(Embedding(max_features, 10))\n",
    "model.add(SimpleRNN(32, return_sequences=True))\n",
    "model.add(Dense(1, activation = 'sigmoid'))\n",
    "model.compile(optimizer = 'rmsprop', loss='binary_crossentropy' , metrics = ['acc'])\n"
   ]
  },
  {
   "cell_type": "code",
   "execution_count": 177,
   "metadata": {},
   "outputs": [
    {
     "name": "stdout",
     "output_type": "stream",
     "text": [
      "epoch 0\n",
      "157/157 [==============================] - 20s 125ms/step - loss: 0.6710 - acc: 0.5635 - val_loss: 0.6374 - val_acc: 0.6004\n",
      "0.2096116\n"
     ]
    }
   ],
   "source": [
    "dist = []\n",
    "for   i in range(0,1):\n",
    "    print('epoch {}'.format(i))\n",
    "    history = model.fit(input_train , y_train , epochs = 1, batch_size= 128 , validation_split = 0.2)\n",
    "    el = model.layers[0]\n",
    "    wt = el.get_weights()[0]\n",
    "    d= np.linalg.norm( wt[781]-wt[37])\n",
    "    dist.append(d)\n",
    "    print(d)\n"
   ]
  },
  {
   "cell_type": "code",
   "execution_count": 178,
   "metadata": {},
   "outputs": [],
   "source": [
    "el1 = model.layers[1]\n",
    "wt1 = el1.get_weights()[1]\n",
    " "
   ]
  },
  {
   "cell_type": "code",
   "execution_count": 185,
   "metadata": {},
   "outputs": [
    {
     "data": {
      "text/plain": [
       "array([ 0.18117107, -0.15173893,  0.44436812,  0.47360238, -0.12427093,\n",
       "        0.09877548, -0.21530871,  0.29211342, -0.13326989, -0.11793385,\n",
       "        0.302798  ,  0.02437606, -0.2511597 , -0.26328713,  0.3345521 ,\n",
       "        0.29145256, -0.3730625 , -0.22611085, -0.46578386,  0.09800994,\n",
       "        0.32843   ,  0.30089355,  0.33719376, -0.20089507,  0.12052587,\n",
       "        0.27974322,  0.21128353, -0.32232168,  0.27869838, -0.31509018,\n",
       "       -0.18427539, -0.00608462], dtype=float32)"
      ]
     },
     "execution_count": 185,
     "metadata": {},
     "output_type": "execute_result"
    }
   ],
   "source": [
    "el1.get_weights()[0][0]"
   ]
  },
  {
   "cell_type": "code",
   "execution_count": 154,
   "metadata": {},
   "outputs": [
    {
     "data": {
      "text/plain": [
       "[<matplotlib.lines.Line2D at 0x14a42a4d0>]"
      ]
     },
     "execution_count": 154,
     "metadata": {},
     "output_type": "execute_result"
    },
    {
     "data": {
      "image/png": "[encoded data removed]",
      "text/plain": [
       "<Figure size 432x288 with 1 Axes>"
      ]
     },
     "metadata": {
      "needs_background": "light"
     },
     "output_type": "display_data"
    }
   ],
   "source": [
    "plt.plot(range(0,20),dist)"
   ]
  },
  {
   "cell_type": "code",
   "execution_count": 156,
   "metadata": {},
   "outputs": [
    {
     "data": {
      "text/plain": [
       "\"makes this stretch and of solid it thought begins br senator and budget worthwhile though ok and awaiting for ever better were and diverse for budget look kicked any to of making it out and follows for effects show to show cast this family us scenes more it severe making senator to and finds tv tend to of emerged these thing wants but and an beckinsale cult as it is video do you david see scenery it in few those are of ship for with of wild to one is very work dark they don't do dvd with those them\""
      ]
     },
     "execution_count": 156,
     "metadata": {},
     "output_type": "execute_result"
    }
   ],
   "source": [
    "' '.join([reversed_word_index[i]  for i in input_train[1][400:]])"
   ]
  },
  {
   "cell_type": "code",
   "execution_count": 105,
   "metadata": {},
   "outputs": [
    {
     "data": {
      "text/plain": [
       "76"
      ]
     },
     "execution_count": 105,
     "metadata": {},
     "output_type": "execute_result"
    }
   ],
   "source": [
    "word_index['get']"
   ]
  },
  {
   "cell_type": "code",
   "execution_count": 91,
   "metadata": {},
   "outputs": [
    {
     "data": {
      "text/plain": [
       "['for',\n",
       " 'on',\n",
       " 'of',\n",
       " 'great',\n",
       " 'stupid',\n",
       " 'of',\n",
       " 'their',\n",
       " 'as',\n",
       " 'end',\n",
       " 'should',\n",
       " 'is',\n",
       " 'very',\n",
       " 'together',\n",
       " 'br',\n",
       " 'twilight',\n",
       " 'us',\n",
       " 'writer',\n",
       " 'br',\n",
       " 'were',\n",
       " 'machines',\n",
       " 'go',\n",
       " 'bad',\n",
       " 'aka',\n",
       " 'were',\n",
       " 'young',\n",
       " 'to',\n",
       " 'might',\n",
       " 'us',\n",
       " 'father',\n",
       " 'film',\n",
       " 'any',\n",
       " 'more',\n",
       " 'it',\n",
       " 'her',\n",
       " 'get',\n",
       " 'predictable',\n",
       " 'of',\n",
       " 'alleged',\n",
       " 'for',\n",
       " 'find',\n",
       " 'dvd',\n",
       " 'from',\n",
       " 'through',\n",
       " \"i'm\",\n",
       " 'her',\n",
       " 'get',\n",
       " 'up',\n",
       " 'happily',\n",
       " 'date',\n",
       " 'of',\n",
       " 'lionel',\n",
       " 'with',\n",
       " 'other',\n",
       " 'is',\n",
       " 'him',\n",
       " 'pushed',\n",
       " 'has',\n",
       " 'columbo',\n",
       " 'criticized',\n",
       " 'to',\n",
       " \"what's\",\n",
       " 'of',\n",
       " 'thief',\n",
       " 'this',\n",
       " 'so',\n",
       " 'superior',\n",
       " 'too',\n",
       " 'not',\n",
       " 'as',\n",
       " 'you',\n",
       " 'it',\n",
       " 'get',\n",
       " 'up',\n",
       " 'br',\n",
       " 'is',\n",
       " 'others',\n",
       " 'their',\n",
       " 'was',\n",
       " 'out',\n",
       " 'least',\n",
       " 'that',\n",
       " 'hilarious',\n",
       " 'not',\n",
       " 'was',\n",
       " 'into',\n",
       " 'through',\n",
       " 'to',\n",
       " 'why',\n",
       " 'for',\n",
       " 'as',\n",
       " 'it',\n",
       " 'by',\n",
       " 'br',\n",
       " 'of',\n",
       " 'where',\n",
       " 'suits',\n",
       " 'was',\n",
       " 'one',\n",
       " 'your']"
      ]
     },
     "execution_count": 91,
     "metadata": {},
     "output_type": "execute_result"
    }
   ],
   "source": [
    "reversed_word_index"
   ]
  },
  {
   "cell_type": "code",
   "execution_count": 88,
   "metadata": {},
   "outputs": [
    {
     "data": {
      "text/plain": [
       "array([  15,   20,    4,   84,  376,    4,   65,   14,  127,  141,    6,\n",
       "         52,  292,    7, 4751,  175,  561,    7,   68, 3866,  137,   75,\n",
       "       2541,   68,  182,    5,  235,  175,  333,   19,   98,   50,    9,\n",
       "         38,   76,  724,    4, 6750,   15,  166,  285,   36,  140,  143,\n",
       "         38,   76,   53, 3094, 1301,    4, 6991,   16,   82,    6,   87,\n",
       "       3578,   44, 2527, 7612,    5,  800,    4, 3033,   11,   35, 1728,\n",
       "         96,   21,   14,   22,    9,   76,   53,    7,    6,  406,   65,\n",
       "         13,   43,  219,   12,  639,   21,   13,   80,  140,    5,  135,\n",
       "         15,   14,    9,   31,    7,    4,  118, 3672,   13,   28,  126],\n",
       "      dtype=int32)"
      ]
     },
     "execution_count": 88,
     "metadata": {},
     "output_type": "execute_result"
    }
   ],
   "source": [
    "input_train[8]"
   ]
  },
  {
   "cell_type": "code",
   "execution_count": 66,
   "metadata": {},
   "outputs": [
    {
     "data": {
      "text/plain": [
       "'ahead'"
      ]
     },
     "execution_count": 66,
     "metadata": {},
     "output_type": "execute_result"
    }
   ],
   "source": [
    "reversed_word_index[1401]"
   ]
  },
  {
   "cell_type": "code",
   "execution_count": 44,
   "metadata": {},
   "outputs": [
    {
     "name": "stdout",
     "output_type": "stream",
     "text": [
      "Model: \"sequential_11\"\n",
      "_________________________________________________________________\n",
      "Layer (type)                 Output Shape              Param #   \n",
      "=================================================================\n",
      "embedding_11 (Embedding)     (None, None, 32)          320000    \n",
      "_________________________________________________________________\n",
      "simple_rnn_11 (SimpleRNN)    (None, 32)                2080      \n",
      "_________________________________________________________________\n",
      "dense_11 (Dense)             (None, 1)                 33        \n",
      "=================================================================\n",
      "Total params: 322,113\n",
      "Trainable params: 322,113\n",
      "Non-trainable params: 0\n",
      "_________________________________________________________________\n"
     ]
    }
   ],
   "source": [
    "model.summary()"
   ]
  },
  {
   "cell_type": "code",
   "execution_count": 107,
   "metadata": {},
   "outputs": [
    {
     "data": {
      "text/plain": [
       "array([ 0.04906577, -0.01500022, -0.03006481,  0.02676964, -0.02561452,\n",
       "        0.03151833,  0.00459572, -0.01573221, -0.00185541, -0.03438999],\n",
       "      dtype=float32)"
      ]
     },
     "execution_count": 107,
     "metadata": {},
     "output_type": "execute_result"
    }
   ],
   "source": []
  },
  {
   "cell_type": "code",
   "execution_count": 118,
   "metadata": {},
   "outputs": [
    {
     "data": {
      "text/plain": [
       "'find'"
      ]
     },
     "execution_count": 118,
     "metadata": {},
     "output_type": "execute_result"
    }
   ],
   "source": []
  },
  {
   "cell_type": "code",
   "execution_count": null,
   "metadata": {},
   "outputs": [],
   "source": []
  },
  {
   "cell_type": "code",
   "execution_count": 24,
   "metadata": {},
   "outputs": [
    {
     "data": {
      "image/png": "[encoded data removed]",
      "text/plain": [
       "<IPython.core.display.Image object>"
      ]
     },
     "execution_count": 24,
     "metadata": {},
     "output_type": "execute_result"
    }
   ],
   "source": [
    "plot_model(model)"
   ]
  },
  {
   "cell_type": "code",
   "execution_count": 10,
   "metadata": {},
   "outputs": [
    {
     "data": {
      "text/plain": [
       "[<matplotlib.lines.Line2D at 0x157d4c590>]"
      ]
     },
     "execution_count": 10,
     "metadata": {},
     "output_type": "execute_result"
    },
    {
     "data": {
      "image/png": "[encoded data removed]",
      "text/plain": [
       "<Figure size 432x288 with 1 Axes>"
      ]
     },
     "metadata": {
      "needs_background": "light"
     },
     "output_type": "display_data"
    }
   ],
   "source": [
    "acc = history.history['acc']\n",
    "plt.plot(range(2), acc)"
   ]
  },
  {
   "cell_type": "code",
   "execution_count": 51,
   "metadata": {},
   "outputs": [],
   "source": []
  },
  {
   "cell_type": "code",
   "execution_count": 52,
   "metadata": {},
   "outputs": [],
   "source": []
  },
  {
   "cell_type": "code",
   "execution_count": 53,
   "metadata": {},
   "outputs": [
    {
     "data": {
      "text/plain": [
       "3"
      ]
     },
     "execution_count": 53,
     "metadata": {},
     "output_type": "execute_result"
    }
   ],
   "source": [
    "word_index['a']"
   ]
  }
 ],
 "metadata": {
  "kernelspec": {
   "display_name": "Python 3",
   "language": "python",
   "name": "python3"
  },
  "language_info": {
   "codemirror_mode": {
    "name": "ipython",
    "version": 3
   },
   "file_extension": ".py",
   "mimetype": "text/x-python",
   "name": "python",
   "nbconvert_exporter": "python",
   "pygments_lexer": "ipython3",
   "version": "3.7.6"
  }
 },
 "nbformat": 4,
 "nbformat_minor": 4
}
