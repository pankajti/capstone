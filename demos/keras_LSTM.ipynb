{
 "cells": [
  {
   "cell_type": "code",
   "execution_count": 66,
   "metadata": {},
   "outputs": [],
   "source": [
    "from tensorflow.keras.datasets import imdb\n",
    "from tensorflow.keras.preprocessing import sequence"
   ]
  },
  {
   "cell_type": "code",
   "execution_count": 46,
   "metadata": {},
   "outputs": [],
   "source": [
    "max_feature = 10000\n",
    "max_len =100\n",
    "batch_szie= 32 "
   ]
  },
  {
   "cell_type": "code",
   "execution_count": 47,
   "metadata": {},
   "outputs": [
    {
     "name": "stdout",
     "output_type": "stream",
     "text": [
      "loading data..\n"
     ]
    }
   ],
   "source": [
    "print('loading data..')\n",
    "(input_train , y_train),(input_test , y_test) = imdb.load_data(num_words = max_feature)\n",
    "input_train = sequence.pad_sequences(input_train , maxlen = max_len)\n",
    "input_test = sequence.pad_sequences(input_test , maxlen = max_len)"
   ]
  },
  {
   "cell_type": "code",
   "execution_count": 67,
   "metadata": {},
   "outputs": [
    {
     "name": "stdout",
     "output_type": "stream",
     "text": [
      "Model: \"sequential\"\n",
      "_________________________________________________________________\n",
      "Layer (type)                 Output Shape              Param #   \n",
      "=================================================================\n",
      "embedding (Embedding)        (None, None, 32)          320000    \n",
      "_________________________________________________________________\n",
      "simple_rnn (SimpleRNN)       (None, 32)                2080      \n",
      "_________________________________________________________________\n",
      "dense (Dense)                (None, 1)                 33        \n",
      "=================================================================\n",
      "Total params: 322,113\n",
      "Trainable params: 322,113\n",
      "Non-trainable params: 0\n",
      "_________________________________________________________________\n"
     ]
    }
   ],
   "source": [
    "from tensorflow.keras.models import Sequential\n",
    "from tensorflow.keras.layers import Embedding, SimpleRNN, Dense, Flatten\n",
    "model = Sequential()\n",
    "model.add(Embedding(max_feature, 32))\n",
    "model.add(SimpleRNN(32))\n",
    "model.add(Dense(1, activation ='sigmoid'))\n",
    "model.compile(optimizer = 'rmsprop', loss = 'binary_crossentropy' , metrics = ['acc'])\n",
    "model.summary()"
   ]
  },
  {
   "cell_type": "code",
   "execution_count": 49,
   "metadata": {},
   "outputs": [
    {
     "name": "stderr",
     "output_type": "stream",
     "text": [
      "/Users/pankaj/anaconda/envs/ML2/lib/python3.7/site-packages/tensorflow_core/python/framework/indexed_slices.py:433: UserWarning: Converting sparse IndexedSlices to a dense Tensor of unknown shape. This may consume a large amount of memory.\n",
      "  \"Converting sparse IndexedSlices to a dense Tensor of unknown shape. \"\n"
     ]
    },
    {
     "name": "stdout",
     "output_type": "stream",
     "text": [
      "Train on 20000 samples, validate on 5000 samples\n",
      "Epoch 1/10\n",
      "20000/20000 [==============================] - 5s 246us/step - loss: 0.5845 - acc: 0.6758 - val_loss: 0.4932 - val_acc: 0.7720\n",
      "Epoch 2/10\n",
      "20000/20000 [==============================] - 4s 223us/step - loss: 0.3647 - acc: 0.8483 - val_loss: 0.4881 - val_acc: 0.8070\n",
      "Epoch 3/10\n",
      "20000/20000 [==============================] - 5s 233us/step - loss: 0.2669 - acc: 0.8947 - val_loss: 0.3872 - val_acc: 0.8422\n",
      "Epoch 4/10\n",
      "20000/20000 [==============================] - 4s 217us/step - loss: 0.1990 - acc: 0.9261 - val_loss: 0.4216 - val_acc: 0.8084\n",
      "Epoch 5/10\n",
      "20000/20000 [==============================] - 5s 232us/step - loss: 0.1362 - acc: 0.9542 - val_loss: 0.4377 - val_acc: 0.8268\n",
      "Epoch 6/10\n",
      "20000/20000 [==============================] - 5s 233us/step - loss: 0.0838 - acc: 0.9728 - val_loss: 0.4946 - val_acc: 0.8288\n",
      "Epoch 7/10\n",
      "20000/20000 [==============================] - 5s 227us/step - loss: 0.0492 - acc: 0.9848 - val_loss: 0.5847 - val_acc: 0.8020\n",
      "Epoch 8/10\n",
      "20000/20000 [==============================] - 4s 220us/step - loss: 0.0307 - acc: 0.9912 - val_loss: 0.6660 - val_acc: 0.7826\n",
      "Epoch 9/10\n",
      "20000/20000 [==============================] - 5s 230us/step - loss: 0.0173 - acc: 0.9956 - val_loss: 0.7130 - val_acc: 0.7900\n",
      "Epoch 10/10\n",
      "20000/20000 [==============================] - 5s 230us/step - loss: 0.0126 - acc: 0.9968 - val_loss: 0.7142 - val_acc: 0.8064\n"
     ]
    }
   ],
   "source": [
    "history = model.fit(input_train , y_train , epochs = 10 , batch_size = 128, validation_split = 0.2 )"
   ]
  },
  {
   "cell_type": "code",
   "execution_count": 18,
   "metadata": {},
   "outputs": [
    {
     "data": {
      "text/plain": [
       "{'val_loss': [0.5023671234607696,\n",
       "  0.47424759130477906,\n",
       "  0.40701571581363677,\n",
       "  0.5388506012439728,\n",
       "  0.5431484957695007,\n",
       "  0.5580678084850311,\n",
       "  0.7350546870231628,\n",
       "  0.771526745891571,\n",
       "  0.7689339844107628,\n",
       "  0.8492324277639389],\n",
       " 'val_acc': [0.7590000033378601,\n",
       "  0.7811999917030334,\n",
       "  0.8253999948501587,\n",
       "  0.7662000060081482,\n",
       "  0.8136000037193298,\n",
       "  0.817799985408783,\n",
       "  0.7558000087738037,\n",
       "  0.7865999937057495,\n",
       "  0.8073999881744385,\n",
       "  0.7972000241279602],\n",
       " 'loss': [0.6322480319976806,\n",
       "  0.3876447949886322,\n",
       "  0.2697263744115829,\n",
       "  0.18023547358512879,\n",
       "  0.10437896797657013,\n",
       "  0.053442117583751676,\n",
       "  0.026747351345419883,\n",
       "  0.015434078884124756,\n",
       "  0.008479502806067466,\n",
       "  0.0055069083228707315],\n",
       " 'acc': [0.6275,\n",
       "  0.83595,\n",
       "  0.89265,\n",
       "  0.9334,\n",
       "  0.966,\n",
       "  0.9851,\n",
       "  0.9934,\n",
       "  0.99575,\n",
       "  0.9981,\n",
       "  0.99855]}"
      ]
     },
     "execution_count": 18,
     "metadata": {},
     "output_type": "execute_result"
    }
   ],
   "source": [
    "histroy.history"
   ]
  },
  {
   "cell_type": "code",
   "execution_count": 23,
   "metadata": {},
   "outputs": [],
   "source": [
    "import matplotlib.pyplot as plt"
   ]
  },
  {
   "cell_type": "code",
   "execution_count": 29,
   "metadata": {},
   "outputs": [],
   "source": [
    "acc= histroy.history['loss']\n",
    "val_acc= histroy.history['val_loss']"
   ]
  },
  {
   "cell_type": "code",
   "execution_count": 30,
   "metadata": {},
   "outputs": [
    {
     "data": {
      "text/plain": [
       "[<matplotlib.lines.Line2D at 0x14de28110>]"
      ]
     },
     "execution_count": 30,
     "metadata": {},
     "output_type": "execute_result"
    },
    {
     "data": {
      "image/png": "[encoded data removed]",
      "text/plain": [
       "<Figure size 432x288 with 1 Axes>"
      ]
     },
     "metadata": {
      "needs_background": "light"
     },
     "output_type": "display_data"
    }
   ],
   "source": [
    "plt.plot(range(len(acc)), acc)\n",
    "plt.plot(range(len(acc)), val_acc)"
   ]
  },
  {
   "cell_type": "code",
   "execution_count": 40,
   "metadata": {},
   "outputs": [
    {
     "data": {
      "text/plain": [
       "array([[0.99983525],\n",
       "       [0.99983525],\n",
       "       [0.99983525],\n",
       "       [0.99983525],\n",
       "       [0.99983525]], dtype=float32)"
      ]
     },
     "execution_count": 40,
     "metadata": {},
     "output_type": "execute_result"
    }
   ],
   "source": [
    "import numpy as np\n",
    "model.predict(np.zeros((5,5)))"
   ]
  },
  {
   "cell_type": "code",
   "execution_count": 71,
   "metadata": {
    "scrolled": true
   },
   "outputs": [
    {
     "name": "stdout",
     "output_type": "stream",
     "text": [
      "Model: \"sequential_2\"\n",
      "_________________________________________________________________\n",
      "Layer (type)                 Output Shape              Param #   \n",
      "=================================================================\n",
      "embedding_2 (Embedding)      (None, None, 32)          320000    \n",
      "_________________________________________________________________\n",
      "lstm_1 (LSTM)                (None, 32)                8320      \n",
      "_________________________________________________________________\n",
      "dense_2 (Dense)              (None, 1)                 33        \n",
      "=================================================================\n",
      "Total params: 328,353\n",
      "Trainable params: 328,353\n",
      "Non-trainable params: 0\n",
      "_________________________________________________________________\n"
     ]
    }
   ],
   "source": [
    "from tensorflow.keras.layers import LSTM\n",
    "\n",
    "model2 = Sequential()\n",
    "model2.add(Embedding(max_feature, 32))\n",
    "model2.add(LSTM(32))\n",
    "model2.add(Dense(1, activation ='sigmoid'))\n",
    "model2.compile(optimizer = 'rmsprop', loss= 'binary_crossentropy', metrics = ['acc'])\n",
    "model2.summary()\n"
   ]
  },
  {
   "cell_type": "code",
   "execution_count": 72,
   "metadata": {},
   "outputs": [
    {
     "name": "stdout",
     "output_type": "stream",
     "text": [
      "Train on 20000 samples, validate on 5000 samples\n",
      "Epoch 1/10\n",
      "20000/20000 [==============================] - 13s 659us/sample - loss: 0.5089 - acc: 0.7549 - val_loss: 0.4410 - val_acc: 0.8084\n",
      "Epoch 2/10\n",
      "20000/20000 [==============================] - 10s 522us/sample - loss: 0.3121 - acc: 0.8727 - val_loss: 0.3584 - val_acc: 0.8454\n",
      "Epoch 3/10\n",
      "20000/20000 [==============================] - 10s 480us/sample - loss: 0.2564 - acc: 0.8983 - val_loss: 0.3494 - val_acc: 0.8462\n",
      "Epoch 4/10\n",
      "20000/20000 [==============================] - 9s 469us/sample - loss: 0.2224 - acc: 0.9149 - val_loss: 0.3763 - val_acc: 0.8358\n",
      "Epoch 5/10\n",
      "20000/20000 [==============================] - 10s 493us/sample - loss: 0.1999 - acc: 0.9245 - val_loss: 0.4325 - val_acc: 0.8340\n",
      "Epoch 6/10\n",
      "20000/20000 [==============================] - 10s 495us/sample - loss: 0.1817 - acc: 0.9352 - val_loss: 0.4414 - val_acc: 0.8224\n",
      "Epoch 7/10\n",
      "20000/20000 [==============================] - 9s 461us/sample - loss: 0.1594 - acc: 0.9437 - val_loss: 0.4101 - val_acc: 0.8300\n",
      "Epoch 8/10\n",
      "20000/20000 [==============================] - 9s 472us/sample - loss: 0.1481 - acc: 0.9474 - val_loss: 0.5049 - val_acc: 0.8318\n",
      "Epoch 9/10\n",
      "20000/20000 [==============================] - 10s 475us/sample - loss: 0.1307 - acc: 0.9537 - val_loss: 0.5216 - val_acc: 0.8202\n",
      "Epoch 10/10\n",
      "20000/20000 [==============================] - 9s 460us/sample - loss: 0.1186 - acc: 0.9589 - val_loss: 0.5279 - val_acc: 0.8318\n"
     ]
    }
   ],
   "source": [
    "import tensorflow.keras\n",
    "callbacks = [keras.callbacks.TensorBoard(log_dir = 'logs_lstm', histogram_freq= 1)]\n",
    "\n",
    "history = model2.fit(input_train , y_train , epochs = 10, batch_size = 128 , validation_split = 0.2, \n",
    "                     callbacks= callbacks)\n"
   ]
  },
  {
   "cell_type": "code",
   "execution_count": 73,
   "metadata": {},
   "outputs": [
    {
     "name": "stdout",
     "output_type": "stream",
     "text": [
      "env: PATH=/Users/pankaj/anaconda/envs/ML2/bin:/Users/pankaj/anaconda/envs/ML2/bin:/Users/pankaj/anaconda/condabin:/Users/pankaj/anaconda/bin:/usr/local/bin:/usr/bin:/bin:/usr/sbin:/sbin:/Library/TeX/texbin:/opt/X11/bin\n",
      "The tensorboard extension is already loaded. To reload it, use:\n",
      "  %reload_ext tensorboard\n"
     ]
    },
    {
     "data": {
      "text/plain": [
       "Reusing TensorBoard on port 6007 (pid 47364), started 0:12:28 ago. (Use '!kill 47364' to kill it.)"
      ]
     },
     "metadata": {},
     "output_type": "display_data"
    },
    {
     "data": {
      "text/html": [
       "\n",
       "      <iframe id=\"tensorboard-frame-b3668bcb9940cfde\" width=\"100%\" height=\"800\" frameborder=\"0\">\n",
       "      </iframe>\n",
       "      <script>\n",
       "        (function() {\n",
       "          const frame = document.getElementById(\"tensorboard-frame-b3668bcb9940cfde\");\n",
       "          const url = new URL(\"/\", window.location);\n",
       "          url.port = 6007;\n",
       "          frame.src = url;\n",
       "        })();\n",
       "      </script>\n",
       "  "
      ],
      "text/plain": [
       "<IPython.core.display.HTML object>"
      ]
     },
     "metadata": {},
     "output_type": "display_data"
    }
   ],
   "source": [
    "import os\n",
    "PATH = os.getenv('PATH')\n",
    "%env PATH=/Users/pankaj/anaconda/envs/ML2/bin:$PATH\n",
    "%load_ext tensorboard\n",
    "%tensorboard --logdir logs_lstm"
   ]
  },
  {
   "cell_type": "code",
   "execution_count": null,
   "metadata": {},
   "outputs": [],
   "source": []
  },
  {
   "cell_type": "code",
   "execution_count": null,
   "metadata": {},
   "outputs": [],
   "source": []
  }
 ],
 "metadata": {
  "kernelspec": {
   "display_name": "Python 3",
   "language": "python",
   "name": "python3"
  },
  "language_info": {
   "codemirror_mode": {
    "name": "ipython",
    "version": 3
   },
   "file_extension": ".py",
   "mimetype": "text/x-python",
   "name": "python",
   "nbconvert_exporter": "python",
   "pygments_lexer": "ipython3",
   "version": "3.7.6"
  }
 },
 "nbformat": 4,
 "nbformat_minor": 2
}
