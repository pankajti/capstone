{
 "cells": [
  {
   "cell_type": "code",
   "execution_count": null,
   "metadata": {},
   "outputs": [],
   "source": []
  },
  {
   "cell_type": "code",
   "execution_count": null,
   "metadata": {},
   "outputs": [],
   "source": []
  },
  {
   "cell_type": "code",
   "execution_count": 2,
   "metadata": {},
   "outputs": [
    {
     "name": "stdout",
     "output_type": "stream",
     "text": [
      "J2785\n",
      "J1745\n",
      "J1100\n",
      "J1100\n",
      "J7506\n"
     ]
    },
    {
     "data": {
      "text/plain": [
       "[None, None, None, None, None]"
      ]
     },
     "execution_count": 2,
     "metadata": {},
     "output_type": "execute_result"
    }
   ],
   "source": [
    "'''\n",
    "A medical claim is denoted by a claim number ('Claim.Number'). Each claim consists of one or more medical lines denoted by a claim line number ('Claim.Line.Number').\n",
    "\n",
    "1. J-codes are procedure codes that start with the letter 'J'.\n",
    "\n",
    "     A. Find the number of claim lines that have J-codes.\n",
    "\n",
    "     B. How much was paid for J-codes to providers for 'in network' claims?\n",
    "\n",
    "     C. What are the top five J-codes based on the payment to providers?\n",
    "\n",
    "'''\n",
    "\n",
    "import matplotlib.pyplot as plt\n",
    "from collections import Counter, defaultdict\n",
    "\n",
    "\n",
    "\n",
    "with open('/Users/pankaj/dev/git/smu/ML2/HW2/claim.sample.csv', 'r') as f:\n",
    "     claims = f.readlines()\n",
    "\n",
    "claims_list =[dict(zip( claims[0].split(','), claim.split(','))) for claim in claims[1:]]\n",
    "j_claims = list(filter(lambda x: x['Procedure.Code'].startswith('J'),claims_list))\n",
    "j_code_provider_payment = sum([float(x['Provider.Payment.Amount']) for x in j_claims if x['In.Out.Of.Network'].startswith('I')])\n",
    "sorted_pay = sorted(j_claims , key= lambda x: x['Provider.Payment.Amount'] , reverse=True)\n",
    "[print(x['Procedure.Code']) for x in sorted_pay[0:5]]\n",
    "\n"
   ]
  },
  {
   "cell_type": "code",
   "execution_count": 3,
   "metadata": {},
   "outputs": [
    {
     "data": {
      "image/png": "[encoded data removed]",
      "text/plain": [
       "<Figure size 432x288 with 1 Axes>"
      ]
     },
     "metadata": {
      "needs_background": "light"
     },
     "output_type": "display_data"
    }
   ],
   "source": [
    "'''\n",
    "2. For the following exercises, determine the number of providers that were paid for at least one J-code.\n",
    " Use the J-code claims for these providers to complete the following exercises.\n",
    "\n",
    "    A. Create a scatter plot that displays the number of unpaid claims (lines where the ‘Provider.Payment.Amount’ field is equal to zero) \n",
    "    for each provider versus the number of paid claims.\n",
    "\n",
    "    B. What insights can you suggest from the graph?\n",
    "\n",
    "    C. Based on the graph, is the behavior of any of the providers concerning? Explain.\n",
    "'''\n",
    "\n",
    "claims_dict = dict()\n",
    "nj_claims = [x for x in j_claims if float(x['Provider.Payment.Amount'])!=0]\n",
    "zero_payment_provider = Counter([ x['Provider.ID'] for x in nj_claims if x['Provider.Payment.Amount'].startswith('0')])\n",
    "non_zero_payment_provider = Counter([ x['Provider.ID'] for x in nj_claims if float(x['Provider.Payment.Amount'])!=0])\n",
    "\n",
    "def show_plot():\n",
    "    dd = defaultdict(list)\n",
    "    fig, ax = plt.subplots()\n",
    "    for d in (zero_payment_provider, non_zero_payment_provider):\n",
    "        for k, v in d.items():\n",
    "            dd[k].append(v)\n",
    "    z = [x[0] for x in dd.values() if len(x) > 1]\n",
    "    y = [x[1] for x in dd.values() if len(x) > 1]\n",
    "    ax.scatter(z, y)\n",
    "    n = [x for x in dd.keys() if len(dd[x]) > 1]\n",
    "    for i, txt in enumerate(n):\n",
    "        ax.annotate(txt, (z[i], y[i]))\n",
    "    plt.xlabel('Zero payment_count')\n",
    "    plt.ylabel('Non Zero payment_count')\n",
    "    plt.show()\n",
    "\n",
    "\n",
    "show_plot()\n",
    "\n"
   ]
  },
  {
   "cell_type": "code",
   "execution_count": 4,
   "metadata": {},
   "outputs": [
    {
     "name": "stdout",
     "output_type": "stream",
     "text": [
      "7.425346077785102\n"
     ]
    }
   ],
   "source": [
    "'''\n",
    "3. Consider all claim lines with a J-code.\n",
    "\n",
    "     A. What percentage of J-code claim lines were unpaid?\n",
    "\n",
    "     B. Create a model to predict when a J-code is unpaid. Explain why you choose the modeling approach.\n",
    "\n",
    "     C. How accurate is your model at predicting unpaid claims?\n",
    "\n",
    "      D. What data attributes are predominately influencing the rate of non-payment?\n",
    "'''\n",
    "zero_payment_count = len([ x['Provider.ID'] for x in j_claims if x['Provider.Payment.Amount'].startswith('0')])\n",
    "non_zero_payment_count = len([ x['Provider.ID'] for x in j_claims if float(x['Provider.Payment.Amount'])!=0])\n",
    "\n",
    "\n",
    "print(zero_payment_count/non_zero_payment_count)"
   ]
  },
  {
   "cell_type": "code",
   "execution_count": 5,
   "metadata": {},
   "outputs": [
    {
     "name": "stderr",
     "output_type": "stream",
     "text": [
      "Using TensorFlow backend.\n"
     ]
    }
   ],
   "source": [
    "from keras.layers import Dense"
   ]
  },
  {
   "cell_type": "code",
   "execution_count": 6,
   "metadata": {},
   "outputs": [],
   "source": [
    "from keras.layers import Embedding "
   ]
  },
  {
   "cell_type": "code",
   "execution_count": 7,
   "metadata": {},
   "outputs": [],
   "source": [
    "from keras import models\n",
    "from keras import layers"
   ]
  },
  {
   "cell_type": "code",
   "execution_count": 6,
   "metadata": {
    "scrolled": false
   },
   "outputs": [
    {
     "data": {
      "text/plain": [
       "{'V1': '3074',\n",
       " 'Claim.Number': '74645490',\n",
       " 'Claim.Line.Number': '10',\n",
       " 'Member.ID': '1992052',\n",
       " 'Provider.ID': 'FA0001389001',\n",
       " 'Line.Of.Business.ID': '5',\n",
       " 'Revenue.Code': '636',\n",
       " 'Service.Code': 'OP7O',\n",
       " 'Place.Of.Service.Code': ' ',\n",
       " 'Procedure.Code': 'J1650',\n",
       " 'Diagnosis.Code': '4359',\n",
       " 'Claim.Charge.Amount': '592.201995',\n",
       " 'Denial.Reason.Code': 'KAO',\n",
       " 'Price.Index': 'A',\n",
       " 'In.Out.Of.Network': 'I',\n",
       " 'Reference.Index': 'N',\n",
       " 'Pricing.Index': 'N',\n",
       " 'Capitation.Index': ' ',\n",
       " 'Subscriber.Payment.Amount': '0',\n",
       " 'Provider.Payment.Amount': '0',\n",
       " 'Group.Index': '114',\n",
       " 'Subscriber.Index': '1613650',\n",
       " 'Subgroup.Index': '0',\n",
       " 'Claim.Type': 'M',\n",
       " 'Claim.Subscriber.Type': 'H',\n",
       " 'Claim.Pre.Prince.Index': 'S',\n",
       " 'Claim.Current.Status': '91',\n",
       " 'Network.ID': 'P00000000001',\n",
       " 'Agreement.ID\\n': 'FH001309QB01\\n'}"
      ]
     },
     "execution_count": 6,
     "metadata": {},
     "output_type": "execute_result"
    }
   ],
   "source": [
    "j_claims[0] "
   ]
  },
  {
   "cell_type": "code",
   "execution_count": 7,
   "metadata": {},
   "outputs": [
    {
     "data": {
      "text/plain": [
       "'1,28849991,1,9583423,FA0001411002,2,128,RR8I, , ,V5789,19356.96, ,A,I,N,N,N,0,15036.21,110,7763000,0,M,H, ,2,P00000000002,FH001310QB01\\n'"
      ]
     },
     "execution_count": 7,
     "metadata": {},
     "output_type": "execute_result"
    }
   ],
   "source": [
    "claims[1]"
   ]
  },
  {
   "cell_type": "code",
   "execution_count": 9,
   "metadata": {
    "scrolled": false
   },
   "outputs": [],
   "source": [
    "claims_data = [x.split(',') for x in claims]"
   ]
  },
  {
   "cell_type": "code",
   "execution_count": 13,
   "metadata": {},
   "outputs": [],
   "source": [
    "import math"
   ]
  },
  {
   "cell_type": "code",
   "execution_count": 10,
   "metadata": {},
   "outputs": [
    {
     "data": {
      "text/plain": [
       "9"
      ]
     },
     "execution_count": 10,
     "metadata": {},
     "output_type": "execute_result"
    }
   ],
   "source": [
    "claims_data[0].index('Procedure.Code')"
   ]
  },
  {
   "cell_type": "code",
   "execution_count": 14,
   "metadata": {},
   "outputs": [],
   "source": [
    "y_data = [0 if math.isclose(float(x[19]),0) else 1 for x in  claims_data[1:] if x[claims_data[0].index('Procedure.Code')].startswith('J')]"
   ]
  },
  {
   "cell_type": "code",
   "execution_count": 11,
   "metadata": {},
   "outputs": [],
   "source": [
    "x_data = [[float(x[11]) ] for x in claims_data[1:] if x[claims_data[0].index('Procedure.Code')].startswith('J') ]"
   ]
  },
  {
   "cell_type": "code",
   "execution_count": null,
   "metadata": {},
   "outputs": [],
   "source": []
  },
  {
   "cell_type": "code",
   "execution_count": 56,
   "metadata": {
    "scrolled": true
   },
   "outputs": [
    {
     "data": {
      "text/plain": [
       "['V1',\n",
       " 'Claim.Number',\n",
       " 'Claim.Line.Number',\n",
       " 'Member.ID',\n",
       " 'Provider.ID',\n",
       " 'Line.Of.Business.ID',\n",
       " 'Revenue.Code',\n",
       " 'Service.Code',\n",
       " 'Place.Of.Service.Code',\n",
       " 'Procedure.Code',\n",
       " 'Diagnosis.Code',\n",
       " 'Claim.Charge.Amount',\n",
       " 'Denial.Reason.Code',\n",
       " 'Price.Index',\n",
       " 'In.Out.Of.Network',\n",
       " 'Reference.Index',\n",
       " 'Pricing.Index',\n",
       " 'Capitation.Index',\n",
       " 'Subscriber.Payment.Amount',\n",
       " 'Provider.Payment.Amount',\n",
       " 'Group.Index',\n",
       " 'Subscriber.Index',\n",
       " 'Subgroup.Index',\n",
       " 'Claim.Type',\n",
       " 'Claim.Subscriber.Type',\n",
       " 'Claim.Pre.Prince.Index',\n",
       " 'Claim.Current.Status',\n",
       " 'Network.ID',\n",
       " 'Agreement.ID\\n']"
      ]
     },
     "execution_count": 56,
     "metadata": {},
     "output_type": "execute_result"
    }
   ],
   "source": [
    "claims_data[0]"
   ]
  },
  {
   "cell_type": "code",
   "execution_count": 45,
   "metadata": {},
   "outputs": [],
   "source": [
    "import numpy as np"
   ]
  },
  {
   "cell_type": "code",
   "execution_count": null,
   "metadata": {},
   "outputs": [],
   "source": []
  },
  {
   "cell_type": "code",
   "execution_count": 58,
   "metadata": {},
   "outputs": [
    {
     "data": {
      "text/plain": [
       "11"
      ]
     },
     "execution_count": 58,
     "metadata": {},
     "output_type": "execute_result"
    }
   ],
   "source": [
    "claims_data[0].index('Claim.Charge.Amount')"
   ]
  },
  {
   "cell_type": "code",
   "execution_count": 11,
   "metadata": {},
   "outputs": [
    {
     "data": {
      "text/plain": [
       "{' ', 'I', 'O'}"
      ]
     },
     "execution_count": 11,
     "metadata": {},
     "output_type": "execute_result"
    }
   ],
   "source": [
    "set([x[14] for x in claims_data[1:]])"
   ]
  },
  {
   "cell_type": "code",
   "execution_count": null,
   "metadata": {},
   "outputs": [],
   "source": []
  },
  {
   "cell_type": "code",
   "execution_count": 9,
   "metadata": {},
   "outputs": [],
   "source": [
    "from sklearn.neighbors import KNeighborsClassifier\n",
    "knn = KNeighborsClassifier(n_neighbors=  4)\n",
    "#knn.fit(x_data, y_data)"
   ]
  },
  {
   "cell_type": "code",
   "execution_count": 15,
   "metadata": {
    "scrolled": true
   },
   "outputs": [
    {
     "data": {
      "text/plain": [
       "LogisticRegression(C=1.0, class_weight=None, dual=False, fit_intercept=True,\n",
       "                   intercept_scaling=1, l1_ratio=None, max_iter=100,\n",
       "                   multi_class='auto', n_jobs=None, penalty='l2',\n",
       "                   random_state=None, solver='lbfgs', tol=0.0001, verbose=0,\n",
       "                   warm_start=False)"
      ]
     },
     "execution_count": 15,
     "metadata": {},
     "output_type": "execute_result"
    }
   ],
   "source": [
    "from sklearn.linear_model import LogisticRegression\n",
    "lr = LogisticRegression()\n",
    "lr.fit(x_data, y_data)\n",
    "#sc = lr.score(x_data, y_data)"
   ]
  },
  {
   "cell_type": "code",
   "execution_count": 16,
   "metadata": {},
   "outputs": [
    {
     "data": {
      "text/plain": [
       "array([0, 0, 0, 0, 0, 0, 0, 0, 0, 0])"
      ]
     },
     "execution_count": 16,
     "metadata": {},
     "output_type": "execute_result"
    }
   ],
   "source": [
    "lr.predict(x_data[0:10])"
   ]
  },
  {
   "cell_type": "code",
   "execution_count": 17,
   "metadata": {},
   "outputs": [
    {
     "data": {
      "text/plain": [
       "0.8814399655098082"
      ]
     },
     "execution_count": 17,
     "metadata": {},
     "output_type": "execute_result"
    }
   ],
   "source": [
    "lr.score(x_data, y_data)"
   ]
  },
  {
   "cell_type": "code",
   "execution_count": 60,
   "metadata": {},
   "outputs": [
    {
     "data": {
      "text/plain": [
       "[[308.625],\n",
       " [7625.2596],\n",
       " [2127.105225],\n",
       " [4.32075],\n",
       " [324.05625],\n",
       " [648.1125],\n",
       " [2965.133205],\n",
       " [184.767615],\n",
       " [40.12125],\n",
       " [184.767615],\n",
       " [30.726705],\n",
       " [330.32751],\n",
       " [330.32751],\n",
       " [30.726705],\n",
       " [184.767615],\n",
       " [174.2126],\n",
       " [3986.744],\n",
       " [61.50279],\n",
       " [85.45209],\n",
       " [138.1899],\n",
       " [149.5473],\n",
       " [83.4522],\n",
       " [125.5116],\n",
       " [133.5235],\n",
       " [132.931],\n",
       " [105.488],\n",
       " [115.4998],\n",
       " [92.13074],\n",
       " [104.1548],\n",
       " [105.488],\n",
       " [363.8565],\n",
       " [2074.96],\n",
       " [1836.615],\n",
       " [174.1139],\n",
       " [1272.486],\n",
       " [607.5345],\n",
       " [1358.604]]"
      ]
     },
     "execution_count": 60,
     "metadata": {},
     "output_type": "execute_result"
    }
   ],
   "source": [
    "list(filter (lambda x:not math.isclose(x[0],0),x_data))"
   ]
  },
  {
   "cell_type": "code",
   "execution_count": 46,
   "metadata": {},
   "outputs": [],
   "source": [
    "from sklearn.preprocessing import OneHotEncoder\n",
    "enc = OneHotEncoder(  drop='first')"
   ]
  },
  {
   "cell_type": "code",
   "execution_count": 18,
   "metadata": {},
   "outputs": [
    {
     "data": {
      "text/plain": [
       "[['I'],\n",
       " ['I'],\n",
       " ['I'],\n",
       " ['I'],\n",
       " ['I'],\n",
       " ['I'],\n",
       " ['I'],\n",
       " ['I'],\n",
       " ['I'],\n",
       " ['I'],\n",
       " ['I'],\n",
       " ['I'],\n",
       " ['I'],\n",
       " ['I'],\n",
       " ['I'],\n",
       " ['I'],\n",
       " ['I'],\n",
       " ['I'],\n",
       " ['I'],\n",
       " ['I'],\n",
       " ['I'],\n",
       " ['I'],\n",
       " ['I'],\n",
       " ['I'],\n",
       " ['I'],\n",
       " ['I'],\n",
       " ['I'],\n",
       " ['I'],\n",
       " ['I'],\n",
       " ['I'],\n",
       " ['I'],\n",
       " ['I'],\n",
       " ['I'],\n",
       " ['I'],\n",
       " ['I'],\n",
       " ['I'],\n",
       " ['I'],\n",
       " ['I'],\n",
       " ['I'],\n",
       " ['I'],\n",
       " ['I'],\n",
       " ['I'],\n",
       " ['I'],\n",
       " ['I'],\n",
       " ['I'],\n",
       " ['I'],\n",
       " ['I'],\n",
       " ['I'],\n",
       " ['I'],\n",
       " ['I'],\n",
       " ['I'],\n",
       " ['I'],\n",
       " ['I'],\n",
       " ['I'],\n",
       " ['I'],\n",
       " ['I'],\n",
       " ['I'],\n",
       " ['I'],\n",
       " ['I'],\n",
       " ['I'],\n",
       " ['I'],\n",
       " ['I'],\n",
       " ['I'],\n",
       " ['I'],\n",
       " ['I'],\n",
       " ['I'],\n",
       " ['I'],\n",
       " ['I'],\n",
       " ['I'],\n",
       " ['I'],\n",
       " ['I'],\n",
       " ['I'],\n",
       " ['I'],\n",
       " ['I'],\n",
       " ['I'],\n",
       " ['I'],\n",
       " ['I'],\n",
       " ['I'],\n",
       " ['I'],\n",
       " ['I'],\n",
       " ['I'],\n",
       " ['I'],\n",
       " ['I'],\n",
       " ['I'],\n",
       " ['I'],\n",
       " ['I'],\n",
       " ['I'],\n",
       " ['I'],\n",
       " ['I'],\n",
       " ['I'],\n",
       " ['I'],\n",
       " ['I'],\n",
       " ['I'],\n",
       " ['I'],\n",
       " ['I'],\n",
       " ['I'],\n",
       " ['I'],\n",
       " ['I'],\n",
       " ['I'],\n",
       " ['I'],\n",
       " ['I'],\n",
       " ['I'],\n",
       " ['I'],\n",
       " ['I'],\n",
       " ['I'],\n",
       " ['I'],\n",
       " ['I'],\n",
       " ['I'],\n",
       " ['I'],\n",
       " ['I'],\n",
       " ['I'],\n",
       " ['I'],\n",
       " ['I'],\n",
       " ['I'],\n",
       " ['I'],\n",
       " ['I'],\n",
       " ['I'],\n",
       " ['I'],\n",
       " ['I'],\n",
       " ['I'],\n",
       " ['I'],\n",
       " ['I'],\n",
       " ['I'],\n",
       " ['I'],\n",
       " ['I'],\n",
       " ['I'],\n",
       " ['I'],\n",
       " ['I'],\n",
       " ['I'],\n",
       " ['I'],\n",
       " ['I'],\n",
       " ['I'],\n",
       " ['I'],\n",
       " ['I'],\n",
       " ['I'],\n",
       " ['I'],\n",
       " ['I'],\n",
       " ['I'],\n",
       " ['I'],\n",
       " ['I'],\n",
       " ['I'],\n",
       " ['I'],\n",
       " ['I'],\n",
       " ['I'],\n",
       " ['I'],\n",
       " ['I'],\n",
       " ['I'],\n",
       " ['I'],\n",
       " ['I'],\n",
       " ['I'],\n",
       " ['I'],\n",
       " ['I'],\n",
       " ['I'],\n",
       " ['I'],\n",
       " ['I'],\n",
       " ['I'],\n",
       " ['I'],\n",
       " ['I'],\n",
       " ['I'],\n",
       " ['I'],\n",
       " ['I'],\n",
       " ['I'],\n",
       " ['I'],\n",
       " ['I'],\n",
       " ['I'],\n",
       " ['I'],\n",
       " ['I'],\n",
       " ['I'],\n",
       " ['I'],\n",
       " ['I'],\n",
       " ['I'],\n",
       " ['I'],\n",
       " ['I'],\n",
       " ['I'],\n",
       " ['I'],\n",
       " ['I'],\n",
       " ['I'],\n",
       " ['I'],\n",
       " ['I'],\n",
       " ['I'],\n",
       " ['I'],\n",
       " ['I'],\n",
       " ['I'],\n",
       " ['I'],\n",
       " ['I'],\n",
       " ['I'],\n",
       " ['I'],\n",
       " ['I'],\n",
       " ['I'],\n",
       " ['I'],\n",
       " ['I'],\n",
       " ['I'],\n",
       " ['I'],\n",
       " ['I'],\n",
       " ['I'],\n",
       " ['I'],\n",
       " ['I'],\n",
       " ['I'],\n",
       " ['I'],\n",
       " ['I'],\n",
       " ['I'],\n",
       " ['I'],\n",
       " ['I'],\n",
       " ['I'],\n",
       " ['I'],\n",
       " ['I'],\n",
       " ['I'],\n",
       " ['I'],\n",
       " ['I'],\n",
       " ['I'],\n",
       " ['I'],\n",
       " ['I'],\n",
       " ['I'],\n",
       " ['I'],\n",
       " ['I'],\n",
       " ['I'],\n",
       " ['I'],\n",
       " ['I'],\n",
       " ['I'],\n",
       " ['I'],\n",
       " ['I'],\n",
       " ['I'],\n",
       " ['I'],\n",
       " ['I'],\n",
       " ['I'],\n",
       " ['I'],\n",
       " ['I'],\n",
       " ['I'],\n",
       " ['I'],\n",
       " ['I'],\n",
       " ['I'],\n",
       " ['I'],\n",
       " ['I'],\n",
       " ['I'],\n",
       " ['I'],\n",
       " ['I'],\n",
       " ['I'],\n",
       " ['I'],\n",
       " ['I'],\n",
       " ['I'],\n",
       " ['I'],\n",
       " ['I'],\n",
       " ['I'],\n",
       " ['I'],\n",
       " ['I'],\n",
       " ['I'],\n",
       " ['I'],\n",
       " ['I'],\n",
       " ['I'],\n",
       " ['I'],\n",
       " ['I'],\n",
       " ['I'],\n",
       " ['I'],\n",
       " ['I'],\n",
       " ['I'],\n",
       " ['I'],\n",
       " ['I'],\n",
       " ['I'],\n",
       " ['I'],\n",
       " ['I'],\n",
       " ['I'],\n",
       " ['I'],\n",
       " ['I'],\n",
       " ['I'],\n",
       " ['I'],\n",
       " ['I'],\n",
       " ['I'],\n",
       " ['I'],\n",
       " ['I'],\n",
       " ['I'],\n",
       " ['I'],\n",
       " ['I'],\n",
       " ['I'],\n",
       " ['I'],\n",
       " ['I'],\n",
       " ['I'],\n",
       " ['I'],\n",
       " ['I'],\n",
       " ['I'],\n",
       " ['I'],\n",
       " ['I'],\n",
       " ['I'],\n",
       " ['I'],\n",
       " ['I'],\n",
       " ['I'],\n",
       " ['I'],\n",
       " ['I'],\n",
       " ['I'],\n",
       " ['I'],\n",
       " ['I'],\n",
       " ['I'],\n",
       " ['I'],\n",
       " ['I'],\n",
       " ['I'],\n",
       " ['I'],\n",
       " ['I'],\n",
       " ['I'],\n",
       " ['I'],\n",
       " ['I'],\n",
       " ['I'],\n",
       " ['I'],\n",
       " ['I'],\n",
       " ['I'],\n",
       " ['I'],\n",
       " ['I'],\n",
       " ['I'],\n",
       " ['I'],\n",
       " ['I'],\n",
       " ['I'],\n",
       " ['I'],\n",
       " ['I'],\n",
       " ['I'],\n",
       " ['I'],\n",
       " ['I'],\n",
       " ['I'],\n",
       " ['I'],\n",
       " ['I'],\n",
       " ['I'],\n",
       " ['I'],\n",
       " ['I'],\n",
       " ['I'],\n",
       " ['I'],\n",
       " ['I'],\n",
       " ['I'],\n",
       " ['I'],\n",
       " ['I'],\n",
       " ['I'],\n",
       " ['I'],\n",
       " ['I'],\n",
       " ['I'],\n",
       " ['I'],\n",
       " ['I'],\n",
       " ['I'],\n",
       " ['I'],\n",
       " ['I'],\n",
       " ['I'],\n",
       " ['I'],\n",
       " ['I'],\n",
       " ['I'],\n",
       " ['I'],\n",
       " ['I'],\n",
       " ['I'],\n",
       " ['I'],\n",
       " ['I'],\n",
       " ['I'],\n",
       " ['I'],\n",
       " ['I'],\n",
       " ['I'],\n",
       " ['I'],\n",
       " ['I'],\n",
       " ['I'],\n",
       " ['I'],\n",
       " ['I'],\n",
       " ['I'],\n",
       " ['I'],\n",
       " ['I'],\n",
       " ['I'],\n",
       " ['I'],\n",
       " ['I'],\n",
       " ['I'],\n",
       " ['I'],\n",
       " ['I'],\n",
       " ['I'],\n",
       " ['I'],\n",
       " ['I'],\n",
       " ['I'],\n",
       " ['I'],\n",
       " ['I'],\n",
       " ['I'],\n",
       " ['I'],\n",
       " ['I'],\n",
       " ['I'],\n",
       " ['I'],\n",
       " ['I'],\n",
       " ['I'],\n",
       " ['I'],\n",
       " ['I'],\n",
       " ['I'],\n",
       " ['I'],\n",
       " ['I'],\n",
       " ['I'],\n",
       " ['I'],\n",
       " ['I'],\n",
       " ['I'],\n",
       " ['I'],\n",
       " ['I'],\n",
       " ['I'],\n",
       " ['I'],\n",
       " ['I'],\n",
       " ['I'],\n",
       " ['I'],\n",
       " ['I'],\n",
       " ['I'],\n",
       " ['I'],\n",
       " ['I'],\n",
       " ['I'],\n",
       " ['I'],\n",
       " ['I'],\n",
       " ['I'],\n",
       " ['I'],\n",
       " ['I'],\n",
       " ['I'],\n",
       " ['I'],\n",
       " ['I'],\n",
       " ['I'],\n",
       " ['I'],\n",
       " ['I'],\n",
       " ['I'],\n",
       " ['I'],\n",
       " ['I'],\n",
       " ['I'],\n",
       " ['I'],\n",
       " ['I'],\n",
       " ['I'],\n",
       " ['I'],\n",
       " ['I'],\n",
       " ['I'],\n",
       " ['I'],\n",
       " ['I'],\n",
       " ['I'],\n",
       " ['I'],\n",
       " ['I'],\n",
       " ['I'],\n",
       " ['I'],\n",
       " ['I'],\n",
       " ['I'],\n",
       " ['I'],\n",
       " ['I'],\n",
       " ['I'],\n",
       " ['I'],\n",
       " ['I'],\n",
       " ['I'],\n",
       " ['I'],\n",
       " ['I'],\n",
       " ['I'],\n",
       " ['I'],\n",
       " ['I'],\n",
       " ['I'],\n",
       " ['I'],\n",
       " ['I'],\n",
       " ['I'],\n",
       " ['I'],\n",
       " ['I'],\n",
       " ['I'],\n",
       " ['I'],\n",
       " ['I'],\n",
       " ['I'],\n",
       " ['I'],\n",
       " ['I'],\n",
       " ['I'],\n",
       " ['I'],\n",
       " ['I'],\n",
       " ['I'],\n",
       " ['I'],\n",
       " ['I'],\n",
       " ['I'],\n",
       " ['I'],\n",
       " ['I'],\n",
       " ['I'],\n",
       " ['I'],\n",
       " ['I'],\n",
       " ['I'],\n",
       " ['I'],\n",
       " ['I'],\n",
       " ['I'],\n",
       " ['I'],\n",
       " ['I'],\n",
       " ['I'],\n",
       " ['I'],\n",
       " ['I'],\n",
       " ['I'],\n",
       " ['I'],\n",
       " ['I'],\n",
       " ['I'],\n",
       " ['I'],\n",
       " ['I'],\n",
       " ['I'],\n",
       " ['I'],\n",
       " ['I'],\n",
       " ['I'],\n",
       " ['I'],\n",
       " ['I'],\n",
       " ['I'],\n",
       " ['I'],\n",
       " ['I'],\n",
       " ['I'],\n",
       " ['I'],\n",
       " ['I'],\n",
       " ['I'],\n",
       " ['I'],\n",
       " ['I'],\n",
       " ['I'],\n",
       " ['I'],\n",
       " ['I'],\n",
       " ['I'],\n",
       " ['I'],\n",
       " ['I'],\n",
       " ['I'],\n",
       " ['I'],\n",
       " ['I'],\n",
       " ['I'],\n",
       " ['I'],\n",
       " ['I'],\n",
       " ['I'],\n",
       " ['I'],\n",
       " ['I'],\n",
       " ['I'],\n",
       " ['I'],\n",
       " ['I'],\n",
       " ['I'],\n",
       " ['I'],\n",
       " ['I'],\n",
       " ['I'],\n",
       " ['I'],\n",
       " ['I'],\n",
       " ['I'],\n",
       " ['I'],\n",
       " ['I'],\n",
       " ['I'],\n",
       " ['I'],\n",
       " ['I'],\n",
       " ['I'],\n",
       " ['I'],\n",
       " ['I'],\n",
       " ['I'],\n",
       " ['I'],\n",
       " ['I'],\n",
       " ['I'],\n",
       " ['I'],\n",
       " ['I'],\n",
       " ['I'],\n",
       " ['I'],\n",
       " ['I'],\n",
       " ['I'],\n",
       " ['I'],\n",
       " ['I'],\n",
       " ['I'],\n",
       " ['I'],\n",
       " ['I'],\n",
       " ['I'],\n",
       " ['I'],\n",
       " ['I'],\n",
       " ['I'],\n",
       " ['I'],\n",
       " ['I'],\n",
       " ['I'],\n",
       " ['I'],\n",
       " ['I'],\n",
       " ['I'],\n",
       " ['I'],\n",
       " ['I'],\n",
       " [' '],\n",
       " ['O'],\n",
       " ['I'],\n",
       " ['I'],\n",
       " ['I'],\n",
       " ['I'],\n",
       " ['I'],\n",
       " ['I'],\n",
       " ['I'],\n",
       " ['I'],\n",
       " ['I'],\n",
       " ['I'],\n",
       " ['I'],\n",
       " ['I'],\n",
       " ['I'],\n",
       " ['I'],\n",
       " ['I'],\n",
       " ['I'],\n",
       " ['I'],\n",
       " ['I'],\n",
       " ['I'],\n",
       " ['I'],\n",
       " ['I'],\n",
       " ['I'],\n",
       " ['I'],\n",
       " ['I'],\n",
       " ['I'],\n",
       " ['I'],\n",
       " ['I'],\n",
       " ['I'],\n",
       " ['I'],\n",
       " ['I'],\n",
       " ['I'],\n",
       " ['I'],\n",
       " ['I'],\n",
       " ['I'],\n",
       " ['I'],\n",
       " ['I'],\n",
       " ['I'],\n",
       " ['I'],\n",
       " ['I'],\n",
       " ['I'],\n",
       " ['I'],\n",
       " ['I'],\n",
       " ['I'],\n",
       " ['I'],\n",
       " ['I'],\n",
       " ['I'],\n",
       " ['I'],\n",
       " ['I'],\n",
       " ['I'],\n",
       " ['I'],\n",
       " ['I'],\n",
       " ['I'],\n",
       " ['I'],\n",
       " ['I'],\n",
       " ['I'],\n",
       " ['I'],\n",
       " ['I'],\n",
       " ['I'],\n",
       " ['I'],\n",
       " ['I'],\n",
       " ['I'],\n",
       " ['I'],\n",
       " ['I'],\n",
       " ['I'],\n",
       " ['I'],\n",
       " ['I'],\n",
       " ['I'],\n",
       " ['I'],\n",
       " ['I'],\n",
       " ['I'],\n",
       " ['I'],\n",
       " ['I'],\n",
       " ['I'],\n",
       " ['I'],\n",
       " [' '],\n",
       " ['I'],\n",
       " ['I'],\n",
       " ['I'],\n",
       " ['I'],\n",
       " ['I'],\n",
       " ['I'],\n",
       " [' '],\n",
       " [' '],\n",
       " [' '],\n",
       " [' '],\n",
       " [' '],\n",
       " ['I'],\n",
       " ['I'],\n",
       " ['I'],\n",
       " ['I'],\n",
       " ['I'],\n",
       " ['I'],\n",
       " ['I'],\n",
       " ['I'],\n",
       " ['I'],\n",
       " ['I'],\n",
       " ['I'],\n",
       " ['I'],\n",
       " ['I'],\n",
       " ['I'],\n",
       " ['I'],\n",
       " ['I'],\n",
       " ['I'],\n",
       " ['I'],\n",
       " ['I'],\n",
       " ['I'],\n",
       " ['I'],\n",
       " ['I'],\n",
       " ['I'],\n",
       " ['I'],\n",
       " ['I'],\n",
       " ['I'],\n",
       " ['I'],\n",
       " ['I'],\n",
       " ['I'],\n",
       " ['I'],\n",
       " ['I'],\n",
       " ['I'],\n",
       " ['I'],\n",
       " ['I'],\n",
       " ['I'],\n",
       " ['I'],\n",
       " ['I'],\n",
       " ['I'],\n",
       " ['I'],\n",
       " ['I'],\n",
       " ['I'],\n",
       " ['I'],\n",
       " ['I'],\n",
       " ['I'],\n",
       " ['I'],\n",
       " ['I'],\n",
       " ['I'],\n",
       " ['I'],\n",
       " ['I'],\n",
       " ['I'],\n",
       " ['I'],\n",
       " ['I'],\n",
       " ['I'],\n",
       " ['I'],\n",
       " ['I'],\n",
       " ['I'],\n",
       " ['I'],\n",
       " ['I'],\n",
       " ['I'],\n",
       " ['I'],\n",
       " ['I'],\n",
       " ['I'],\n",
       " ['I'],\n",
       " ['I'],\n",
       " ['I'],\n",
       " ['I'],\n",
       " ['I'],\n",
       " ['I'],\n",
       " ['I'],\n",
       " ['I'],\n",
       " ['I'],\n",
       " ['I'],\n",
       " ['I'],\n",
       " ['I'],\n",
       " ['I'],\n",
       " [' '],\n",
       " [' '],\n",
       " [' '],\n",
       " [' '],\n",
       " [' '],\n",
       " [' '],\n",
       " [' '],\n",
       " [' '],\n",
       " [' '],\n",
       " [' '],\n",
       " [' '],\n",
       " [' '],\n",
       " [' '],\n",
       " [' '],\n",
       " [' '],\n",
       " [' '],\n",
       " [' '],\n",
       " [' '],\n",
       " [' '],\n",
       " [' '],\n",
       " [' '],\n",
       " [' '],\n",
       " [' '],\n",
       " [' '],\n",
       " [' '],\n",
       " [' '],\n",
       " [' '],\n",
       " [' '],\n",
       " [' '],\n",
       " [' '],\n",
       " ['I'],\n",
       " ['I'],\n",
       " ['I'],\n",
       " ['I'],\n",
       " ['I'],\n",
       " ['I'],\n",
       " ['I'],\n",
       " ['I'],\n",
       " ['I'],\n",
       " [' '],\n",
       " [' '],\n",
       " [' '],\n",
       " [' '],\n",
       " [' '],\n",
       " [' '],\n",
       " ['I'],\n",
       " ['I'],\n",
       " ['I'],\n",
       " ['I'],\n",
       " ['I'],\n",
       " ['I'],\n",
       " ['I'],\n",
       " ['I'],\n",
       " ['I'],\n",
       " ['I'],\n",
       " ['I'],\n",
       " ['I'],\n",
       " ['I'],\n",
       " ['I'],\n",
       " ['I'],\n",
       " ['I'],\n",
       " ['I'],\n",
       " ['I'],\n",
       " ['I'],\n",
       " ['I'],\n",
       " ['I'],\n",
       " ['I'],\n",
       " ['I'],\n",
       " ['I'],\n",
       " ['I'],\n",
       " ['I'],\n",
       " ['I'],\n",
       " ['I'],\n",
       " ['I'],\n",
       " ['I'],\n",
       " ['I'],\n",
       " ['I'],\n",
       " ['I'],\n",
       " ['I'],\n",
       " ['I'],\n",
       " ['I'],\n",
       " ['I'],\n",
       " ['I'],\n",
       " ['I'],\n",
       " ['I'],\n",
       " ['I'],\n",
       " ['I'],\n",
       " ['I'],\n",
       " ['I'],\n",
       " ['I'],\n",
       " ['I'],\n",
       " ['I'],\n",
       " ['I'],\n",
       " ['I'],\n",
       " ['I'],\n",
       " ['I'],\n",
       " ['I'],\n",
       " ['I'],\n",
       " ['I'],\n",
       " ['I'],\n",
       " ['I'],\n",
       " ['I'],\n",
       " ['I'],\n",
       " ['I'],\n",
       " ['I'],\n",
       " ['I'],\n",
       " ['I'],\n",
       " ['I'],\n",
       " [' '],\n",
       " [' '],\n",
       " [' '],\n",
       " [' '],\n",
       " [' '],\n",
       " [' '],\n",
       " [' '],\n",
       " [' '],\n",
       " [' '],\n",
       " [' '],\n",
       " [' '],\n",
       " [' '],\n",
       " [' '],\n",
       " [' '],\n",
       " [' '],\n",
       " [' '],\n",
       " [' '],\n",
       " ['I'],\n",
       " ['I'],\n",
       " ['I'],\n",
       " ['I'],\n",
       " ['I'],\n",
       " ['I'],\n",
       " ['I'],\n",
       " ['I'],\n",
       " ['I'],\n",
       " ['I'],\n",
       " ['I'],\n",
       " ['I'],\n",
       " ['I'],\n",
       " ['I'],\n",
       " ['I'],\n",
       " ['I'],\n",
       " ['I'],\n",
       " ['I'],\n",
       " ['I'],\n",
       " ['I'],\n",
       " ['I'],\n",
       " ['I'],\n",
       " ['I'],\n",
       " ['I'],\n",
       " ['I'],\n",
       " ['I'],\n",
       " ['I'],\n",
       " ['I'],\n",
       " ['I'],\n",
       " ['I'],\n",
       " ['I'],\n",
       " ['I'],\n",
       " ['I'],\n",
       " ['I'],\n",
       " ['I'],\n",
       " ['I'],\n",
       " ['I'],\n",
       " ['I'],\n",
       " ['I'],\n",
       " ['I'],\n",
       " ['I'],\n",
       " ['I'],\n",
       " ['I'],\n",
       " ['I'],\n",
       " ['I'],\n",
       " ['I'],\n",
       " ['I'],\n",
       " ['I'],\n",
       " ['I'],\n",
       " ['I'],\n",
       " ['I'],\n",
       " ['I'],\n",
       " ['I'],\n",
       " ['I'],\n",
       " ['I'],\n",
       " ['I'],\n",
       " ['I'],\n",
       " ['I'],\n",
       " ['I'],\n",
       " ['I'],\n",
       " ['I'],\n",
       " ['I'],\n",
       " ['I'],\n",
       " ['I'],\n",
       " ['I'],\n",
       " ['I'],\n",
       " ['I'],\n",
       " ['I'],\n",
       " ['I'],\n",
       " ['I'],\n",
       " ['I'],\n",
       " ['I'],\n",
       " ['I'],\n",
       " ['I'],\n",
       " ['I'],\n",
       " ['I'],\n",
       " ['I'],\n",
       " ['I'],\n",
       " ['I'],\n",
       " ['I'],\n",
       " ['I'],\n",
       " ['I'],\n",
       " ['I'],\n",
       " ['I'],\n",
       " ['I'],\n",
       " ['I'],\n",
       " ['I'],\n",
       " ['I'],\n",
       " ['I'],\n",
       " ['I'],\n",
       " ['I'],\n",
       " ['I'],\n",
       " ['I'],\n",
       " ['I'],\n",
       " ['I'],\n",
       " ['I'],\n",
       " ['I'],\n",
       " ['I'],\n",
       " ['I'],\n",
       " ['I'],\n",
       " ['I'],\n",
       " ['I'],\n",
       " ['I'],\n",
       " ['I'],\n",
       " ['I'],\n",
       " ['I'],\n",
       " ['I'],\n",
       " ['I'],\n",
       " ['I'],\n",
       " ['I'],\n",
       " ['I'],\n",
       " ['I'],\n",
       " ['I'],\n",
       " ['I'],\n",
       " ['I'],\n",
       " ['I'],\n",
       " ['I'],\n",
       " ['I'],\n",
       " ['I'],\n",
       " ['I'],\n",
       " ['I'],\n",
       " ['I'],\n",
       " ['I'],\n",
       " ['I'],\n",
       " ['I'],\n",
       " ['I'],\n",
       " ['I'],\n",
       " ['I'],\n",
       " ['I'],\n",
       " ['I'],\n",
       " ['I'],\n",
       " ['I'],\n",
       " ['I'],\n",
       " ['I'],\n",
       " ['I'],\n",
       " ['I'],\n",
       " ['I'],\n",
       " ['I'],\n",
       " ['I'],\n",
       " ['I'],\n",
       " ['I'],\n",
       " ['I'],\n",
       " ['I'],\n",
       " ['I'],\n",
       " ['I'],\n",
       " ['I'],\n",
       " ['I'],\n",
       " ['I'],\n",
       " ['I'],\n",
       " ['I'],\n",
       " ['I'],\n",
       " ['I'],\n",
       " ['I'],\n",
       " ['I'],\n",
       " ['I'],\n",
       " ['I'],\n",
       " ['I'],\n",
       " ['I'],\n",
       " ['I'],\n",
       " ['I'],\n",
       " ['I'],\n",
       " ...]"
      ]
     },
     "execution_count": 18,
     "metadata": {},
     "output_type": "execute_result"
    }
   ],
   "source": [
    "[[x[14]] for x in claims_data[1:]]"
   ]
  },
  {
   "cell_type": "code",
   "execution_count": 47,
   "metadata": {
    "scrolled": false
   },
   "outputs": [
    {
     "data": {
      "text/plain": [
       "OneHotEncoder(categories='auto', drop='first', dtype=<class 'numpy.float64'>,\n",
       "              handle_unknown='error', sparse=True)"
      ]
     },
     "execution_count": 47,
     "metadata": {},
     "output_type": "execute_result"
    }
   ],
   "source": [
    "enc.fit([[x[14]] for x in claims_data[1:]])"
   ]
  },
  {
   "cell_type": "code",
   "execution_count": 48,
   "metadata": {},
   "outputs": [],
   "source": [
    "aa = enc.transform([[x[14]] for x in claims_data[1:]])"
   ]
  },
  {
   "cell_type": "code",
   "execution_count": 52,
   "metadata": {},
   "outputs": [
    {
     "data": {
      "text/plain": [
       "array([[0., 1., 0.],\n",
       "       [0., 1., 0.],\n",
       "       [0., 1., 0.],\n",
       "       ...,\n",
       "       [1., 0., 0.],\n",
       "       [1., 0., 0.],\n",
       "       [1., 0., 0.]])"
      ]
     },
     "execution_count": 52,
     "metadata": {},
     "output_type": "execute_result"
    }
   ],
   "source": [
    "aa.toarray()"
   ]
  },
  {
   "cell_type": "code",
   "execution_count": 22,
   "metadata": {},
   "outputs": [
    {
     "data": {
      "text/plain": [
       "472559"
      ]
     },
     "execution_count": 22,
     "metadata": {},
     "output_type": "execute_result"
    }
   ],
   "source": [
    "len(x_data)"
   ]
  },
  {
   "cell_type": "code",
   "execution_count": 49,
   "metadata": {},
   "outputs": [
    {
     "data": {
      "text/plain": [
       "[[0.0], [0.0]]"
      ]
     },
     "execution_count": 49,
     "metadata": {},
     "output_type": "execute_result"
    }
   ],
   "source": [
    "x_data[1:3]"
   ]
  },
  {
   "cell_type": "code",
   "execution_count": 24,
   "metadata": {
    "scrolled": true
   },
   "outputs": [
    {
     "data": {
      "text/plain": [
       "472559"
      ]
     },
     "execution_count": 24,
     "metadata": {},
     "output_type": "execute_result"
    }
   ],
   "source": [
    "len(aa.toarray())"
   ]
  },
  {
   "cell_type": "code",
   "execution_count": 26,
   "metadata": {},
   "outputs": [],
   "source": [
    "import numpy as np"
   ]
  },
  {
   "cell_type": "code",
   "execution_count": 62,
   "metadata": {},
   "outputs": [],
   "source": [
    "x_data = np.concatenate((np.array(aa.toarray()),np.array(x_data)), axis =1)"
   ]
  },
  {
   "cell_type": "code",
   "execution_count": 34,
   "metadata": {},
   "outputs": [
    {
     "data": {
      "text/plain": [
       "array([[0., 1., 0., 0.],\n",
       "       [0., 1., 0., 0.],\n",
       "       [0., 1., 0., 0.],\n",
       "       [0., 1., 0., 0.],\n",
       "       [0., 1., 0., 0.],\n",
       "       [0., 1., 0., 0.],\n",
       "       [0., 1., 0., 0.],\n",
       "       [0., 1., 0., 0.],\n",
       "       [0., 1., 0., 0.],\n",
       "       [0., 1., 0., 0.]])"
      ]
     },
     "execution_count": 34,
     "metadata": {},
     "output_type": "execute_result"
    }
   ],
   "source": [
    "np.concatenate((np.array(aa.toarray())[0:10],np.array(x_data)[0:10]), axis=1)"
   ]
  },
  {
   "cell_type": "code",
   "execution_count": 29,
   "metadata": {},
   "outputs": [
    {
     "data": {
      "text/plain": [
       "array([[0., 1., 0.],\n",
       "       [0., 1., 0.],\n",
       "       [0., 1., 0.],\n",
       "       ...,\n",
       "       [1., 0., 0.],\n",
       "       [1., 0., 0.],\n",
       "       [1., 0., 0.]])"
      ]
     },
     "execution_count": 29,
     "metadata": {},
     "output_type": "execute_result"
    }
   ],
   "source": [
    "np.array(aa.toarray())"
   ]
  },
  {
   "cell_type": "code",
   "execution_count": 63,
   "metadata": {},
   "outputs": [
    {
     "data": {
      "text/plain": [
       "LogisticRegression(C=1.0, class_weight=None, dual=False, fit_intercept=True,\n",
       "                   intercept_scaling=1, l1_ratio=None, max_iter=100,\n",
       "                   multi_class='auto', n_jobs=None, penalty='l2',\n",
       "                   random_state=None, solver='lbfgs', tol=0.0001, verbose=0,\n",
       "                   warm_start=False)"
      ]
     },
     "execution_count": 63,
     "metadata": {},
     "output_type": "execute_result"
    }
   ],
   "source": [
    "from sklearn.linear_model import LogisticRegression\n",
    "lr = LogisticRegression()\n",
    "lr.fit(x_data, y_data)"
   ]
  },
  {
   "cell_type": "code",
   "execution_count": 64,
   "metadata": {},
   "outputs": [
    {
     "data": {
      "text/plain": [
       "0.795187479235397"
      ]
     },
     "execution_count": 64,
     "metadata": {},
     "output_type": "execute_result"
    }
   ],
   "source": [
    "lr.score(x_data, y_data)"
   ]
  },
  {
   "cell_type": "code",
   "execution_count": 18,
   "metadata": {},
   "outputs": [],
   "source": [
    "from collections import Counter"
   ]
  },
  {
   "cell_type": "code",
   "execution_count": 19,
   "metadata": {},
   "outputs": [
    {
     "data": {
      "text/plain": [
       "Counter({0: 44961, 1: 6068})"
      ]
     },
     "execution_count": 19,
     "metadata": {},
     "output_type": "execute_result"
    }
   ],
   "source": [
    "Counter(y_data)"
   ]
  },
  {
   "cell_type": "code",
   "execution_count": 21,
   "metadata": {},
   "outputs": [
    {
     "data": {
      "text/plain": [
       "0.881087224911325"
      ]
     },
     "execution_count": 21,
     "metadata": {},
     "output_type": "execute_result"
    }
   ],
   "source": [
    "44961/(44961+ 6068)"
   ]
  },
  {
   "cell_type": "code",
   "execution_count": null,
   "metadata": {},
   "outputs": [],
   "source": []
  }
 ],
 "metadata": {
  "kernelspec": {
   "display_name": "Python 3",
   "language": "python",
   "name": "python3"
  },
  "language_info": {
   "codemirror_mode": {
    "name": "ipython",
    "version": 3
   },
   "file_extension": ".py",
   "mimetype": "text/x-python",
   "name": "python",
   "nbconvert_exporter": "python",
   "pygments_lexer": "ipython3",
   "version": "3.7.6"
  }
 },
 "nbformat": 4,
 "nbformat_minor": 2
}
