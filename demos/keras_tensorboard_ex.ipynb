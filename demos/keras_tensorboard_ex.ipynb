{
 "cells": [
  {
   "cell_type": "code",
   "execution_count": 1,
   "metadata": {},
   "outputs": [],
   "source": [
    "from tensorflow import keras\n",
    "from tensorflow.keras import layers\n",
    "from tensorflow.keras.datasets import imdb\n",
    "from tensorflow.keras.preprocessing import sequence"
   ]
  },
  {
   "cell_type": "code",
   "execution_count": 2,
   "metadata": {},
   "outputs": [],
   "source": [
    "max_features = 2000\n",
    "max_len =500"
   ]
  },
  {
   "cell_type": "code",
   "execution_count": 3,
   "metadata": {},
   "outputs": [],
   "source": [
    "(x_train, y_train), (x_test, y_test) = imdb.load_data(num_words=max_features)"
   ]
  },
  {
   "cell_type": "code",
   "execution_count": 4,
   "metadata": {},
   "outputs": [],
   "source": [
    "x_train = sequence.pad_sequences(x_train , maxlen = max_len)"
   ]
  },
  {
   "cell_type": "code",
   "execution_count": 13,
   "metadata": {},
   "outputs": [
    {
     "data": {
      "text/plain": [
       "array([[  0,   0,   0, ...,  19, 178,  32],\n",
       "       [  0,   0,   0, ...,  16, 145,  95],\n",
       "       [  0,   0,   0, ...,   7, 129, 113],\n",
       "       ...,\n",
       "       [  0,   0,   0, ...,   4,   2,   2],\n",
       "       [  0,   0,   0, ...,  12,   9,  23],\n",
       "       [  0,   0,   0, ..., 204, 131,   9]], dtype=int32)"
      ]
     },
     "execution_count": 13,
     "metadata": {},
     "output_type": "execute_result"
    }
   ],
   "source": [
    "x_train"
   ]
  },
  {
   "cell_type": "code",
   "execution_count": 5,
   "metadata": {},
   "outputs": [],
   "source": [
    "x_test = sequence.pad_sequences(x_test , maxlen = max_len)"
   ]
  },
  {
   "cell_type": "code",
   "execution_count": 6,
   "metadata": {
    "scrolled": true
   },
   "outputs": [
    {
     "name": "stdout",
     "output_type": "stream",
     "text": [
      "Model: \"sequential\"\n",
      "_________________________________________________________________\n",
      "Layer (type)                 Output Shape              Param #   \n",
      "=================================================================\n",
      "embed (Embedding)            (None, 500, 128)          256000    \n",
      "_________________________________________________________________\n",
      "max_pooling1d (MaxPooling1D) (None, 100, 128)          0         \n",
      "_________________________________________________________________\n",
      "conv1d (Conv1D)              (None, 94, 32)            28704     \n",
      "_________________________________________________________________\n",
      "global_max_pooling1d (Global (None, 32)                0         \n",
      "_________________________________________________________________\n",
      "dense (Dense)                (None, 1)                 33        \n",
      "=================================================================\n",
      "Total params: 284,737\n",
      "Trainable params: 284,737\n",
      "Non-trainable params: 0\n",
      "_________________________________________________________________\n"
     ]
    }
   ],
   "source": [
    "model = keras.models.Sequential()\n",
    "model.add(layers.Embedding(max_features, 128 , input_length = max_len, name='embed'))\n",
    "model.add(layers.MaxPooling1D(5))\n",
    "model.add(layers.Conv1D(32, 7, activation='relu'))\n",
    "model.add(layers.GlobalMaxPooling1D())\n",
    "model.add(layers.Dense(1))\n",
    "model.summary()\n",
    "model.compile(optimizer='rmsprop',\n",
    "loss='binary_crossentropy',\n",
    "metrics=['acc'])"
   ]
  },
  {
   "cell_type": "code",
   "execution_count": 8,
   "metadata": {},
   "outputs": [],
   "source": [
    "callbacks = [keras.callbacks.TensorBoard(log_dir = 'my_log_dir', histogram_freq= 1, embeddings_freq=1)]"
   ]
  },
  {
   "cell_type": "code",
   "execution_count": 9,
   "metadata": {
    "scrolled": false
   },
   "outputs": [
    {
     "name": "stdout",
     "output_type": "stream",
     "text": [
      "Epoch 1/20\n",
      "157/157 [==============================] - 9s 55ms/step - loss: 0.6306 - acc: 0.6258 - val_loss: 0.5502 - val_acc: 0.7484\n",
      "Epoch 2/20\n",
      "157/157 [==============================] - 9s 55ms/step - loss: 0.4595 - acc: 0.8245 - val_loss: 0.4204 - val_acc: 0.8472\n",
      "Epoch 3/20\n",
      "157/157 [==============================] - 9s 55ms/step - loss: 0.3574 - acc: 0.8788 - val_loss: 0.4601 - val_acc: 0.8424\n",
      "Epoch 4/20\n",
      "157/157 [==============================] - 8s 53ms/step - loss: 0.3127 - acc: 0.8983 - val_loss: 0.7813 - val_acc: 0.8140\n",
      "Epoch 5/20\n",
      "157/157 [==============================] - 8s 53ms/step - loss: 0.2717 - acc: 0.9201 - val_loss: 0.5263 - val_acc: 0.8730\n",
      "Epoch 6/20\n",
      "157/157 [==============================] - 9s 56ms/step - loss: 0.2269 - acc: 0.9379 - val_loss: 0.5806 - val_acc: 0.8662\n",
      "Epoch 7/20\n",
      "157/157 [==============================] - 9s 55ms/step - loss: 0.1839 - acc: 0.9560 - val_loss: 0.5484 - val_acc: 0.8792\n",
      "Epoch 8/20\n",
      "157/157 [==============================] - 9s 55ms/step - loss: 0.1589 - acc: 0.9661 - val_loss: 0.7321 - val_acc: 0.8682\n",
      "Epoch 9/20\n",
      "157/157 [==============================] - 8s 53ms/step - loss: 0.1314 - acc: 0.9794 - val_loss: 0.7022 - val_acc: 0.8768\n",
      "Epoch 10/20\n",
      "157/157 [==============================] - 9s 54ms/step - loss: 0.1070 - acc: 0.9871 - val_loss: 0.7799 - val_acc: 0.8778\n",
      "Epoch 11/20\n",
      "157/157 [==============================] - 10s 62ms/step - loss: 0.0920 - acc: 0.9920 - val_loss: 0.9201 - val_acc: 0.8656\n",
      "Epoch 12/20\n",
      "157/157 [==============================] - 9s 54ms/step - loss: 0.0845 - acc: 0.9939 - val_loss: 0.8939 - val_acc: 0.8790\n",
      "Epoch 13/20\n",
      "157/157 [==============================] - 9s 55ms/step - loss: 0.0812 - acc: 0.9942 - val_loss: 0.9578 - val_acc: 0.8686\n",
      "Epoch 14/20\n",
      "157/157 [==============================] - 9s 54ms/step - loss: 0.0791 - acc: 0.9949 - val_loss: 0.9723 - val_acc: 0.8698\n",
      "Epoch 15/20\n",
      "157/157 [==============================] - 9s 56ms/step - loss: 0.0786 - acc: 0.9948 - val_loss: 1.0896 - val_acc: 0.8636\n",
      "Epoch 16/20\n",
      "157/157 [==============================] - 8s 52ms/step - loss: 0.0775 - acc: 0.9949 - val_loss: 1.1138 - val_acc: 0.8676\n",
      "Epoch 17/20\n",
      "157/157 [==============================] - 9s 58ms/step - loss: 0.0767 - acc: 0.9951 - val_loss: 1.0566 - val_acc: 0.8738\n",
      "Epoch 18/20\n",
      "157/157 [==============================] - 9s 55ms/step - loss: 0.0766 - acc: 0.9950 - val_loss: 1.1073 - val_acc: 0.8746\n",
      "Epoch 19/20\n",
      "157/157 [==============================] - 10s 62ms/step - loss: 0.0790 - acc: 0.9946 - val_loss: 1.0948 - val_acc: 0.8774\n",
      "Epoch 20/20\n",
      "157/157 [==============================] - 9s 58ms/step - loss: 0.0760 - acc: 0.9951 - val_loss: 1.1733 - val_acc: 0.8624\n"
     ]
    }
   ],
   "source": [
    "history = model.fit(x_train, y_train,\n",
    "epochs=20,\n",
    "batch_size=128,\n",
    "validation_split=0.2,\n",
    "callbacks=callbacks\n",
    "                   )"
   ]
  },
  {
   "cell_type": "code",
   "execution_count": 10,
   "metadata": {},
   "outputs": [
    {
     "name": "stdout",
     "output_type": "stream",
     "text": [
      "env: PATH=/Users/pankaj/anaconda/envs/ML2/bin:/Users/pankaj/anaconda/condabin:/Users/pankaj/anaconda/bin:/usr/local/bin:/usr/bin:/bin:/usr/sbin:/sbin:/Library/TeX/texbin:/opt/X11/bin\n"
     ]
    },
    {
     "data": {
      "text/plain": [
       "ERROR: Failed to launch TensorBoard (exited with -6).\n",
       "Contents of stderr:\n",
       "[libprotobuf ERROR external/com_google_protobuf/src/google/protobuf/descriptor_database.cc:393] Invalid file descriptor data passed to EncodedDescriptorDatabase::Add().\n",
       "[libprotobuf FATAL external/com_google_protobuf/src/google/protobuf/descriptor.cc:1367] CHECK failed: GeneratedDatabase()->Add(encoded_file_descriptor, size): \n",
       "libc++abi.dylib: terminating with uncaught exception of type google::protobuf::FatalException: CHECK failed: GeneratedDatabase()->Add(encoded_file_descriptor, size):"
      ]
     },
     "metadata": {},
     "output_type": "display_data"
    }
   ],
   "source": [
    "import os\n",
    "PATH = os.getenv('PATH')\n",
    "%env PATH=/Users/pankaj/anaconda/envs/ML2/bin:$PATH\n",
    "%load_ext tensorboard\n",
    "%tensorboard --logdir my_log_dir"
   ]
  },
  {
   "cell_type": "code",
   "execution_count": 11,
   "metadata": {
    "scrolled": true
   },
   "outputs": [
    {
     "data": {
      "text/plain": [
       "array([[[0., 0., 0., 0.],\n",
       "        [0., 0., 0., 0.],\n",
       "        [0., 0., 0., 0.]],\n",
       "\n",
       "       [[0., 0., 0., 0.],\n",
       "        [0., 0., 0., 0.],\n",
       "        [0., 0., 0., 0.]]])"
      ]
     },
     "execution_count": 11,
     "metadata": {},
     "output_type": "execute_result"
    }
   ],
   "source": [
    "import numpy as np\n",
    "np.zeros((2,3,4))"
   ]
  },
  {
   "cell_type": "code",
   "execution_count": 12,
   "metadata": {},
   "outputs": [
    {
     "data": {
      "text/plain": [
       "array([[0., 0., 0.],\n",
       "       [0., 0., 0.]])"
      ]
     },
     "execution_count": 12,
     "metadata": {},
     "output_type": "execute_result"
    }
   ],
   "source": [
    "np.zeros((2,3))"
   ]
  },
  {
   "cell_type": "code",
   "execution_count": 15,
   "metadata": {},
   "outputs": [
    {
     "data": {
      "text/plain": [
       "{0: 'toxic',\n",
       " 1: 'severe_toxic',\n",
       " 2: 'obscene',\n",
       " 3: 'threat',\n",
       " 4: 'insult',\n",
       " 5: 'identity_hate'}"
      ]
     },
     "execution_count": 15,
     "metadata": {},
     "output_type": "execute_result"
    }
   ],
   "source": []
  }
 ],
 "metadata": {
  "kernelspec": {
   "display_name": "Python 3",
   "language": "python",
   "name": "python3"
  },
  "language_info": {
   "codemirror_mode": {
    "name": "ipython",
    "version": 3
   },
   "file_extension": ".py",
   "mimetype": "text/x-python",
   "name": "python",
   "nbconvert_exporter": "python",
   "pygments_lexer": "ipython3",
   "version": "3.7.6"
  }
 },
 "nbformat": 4,
 "nbformat_minor": 2
}
