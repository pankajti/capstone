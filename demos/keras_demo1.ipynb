{
 "cells": [
  {
   "cell_type": "code",
   "execution_count": 2,
   "metadata": {},
   "outputs": [],
   "source": [
    "from tensorflow.keras.datasets import boston_housing"
   ]
  },
  {
   "cell_type": "code",
   "execution_count": 3,
   "metadata": {},
   "outputs": [],
   "source": [
    "(train_data, train_targets), (test_data, test_targets) = boston_housing.load_data()"
   ]
  },
  {
   "cell_type": "code",
   "execution_count": 4,
   "metadata": {},
   "outputs": [
    {
     "data": {
      "text/plain": [
       "(404, 13)"
      ]
     },
     "execution_count": 4,
     "metadata": {},
     "output_type": "execute_result"
    }
   ],
   "source": [
    "train_data.shape"
   ]
  },
  {
   "cell_type": "code",
   "execution_count": 5,
   "metadata": {},
   "outputs": [
    {
     "data": {
      "text/plain": [
       "(102, 13)"
      ]
     },
     "execution_count": 5,
     "metadata": {},
     "output_type": "execute_result"
    }
   ],
   "source": [
    "test_data.shape"
   ]
  },
  {
   "cell_type": "code",
   "execution_count": 6,
   "metadata": {
    "scrolled": true
   },
   "outputs": [
    {
     "data": {
      "text/plain": [
       "array([15.2, 42.3, 50. , 21.1, 17.7, 18.5, 11.3, 15.6, 15.6, 14.4, 12.1,\n",
       "       17.9, 23.1, 19.9, 15.7,  8.8, 50. , 22.5, 24.1, 27.5, 10.9, 30.8,\n",
       "       32.9, 24. , 18.5, 13.3, 22.9, 34.7, 16.6, 17.5, 22.3, 16.1, 14.9,\n",
       "       23.1, 34.9, 25. , 13.9, 13.1, 20.4, 20. , 15.2, 24.7, 22.2, 16.7,\n",
       "       12.7, 15.6, 18.4, 21. , 30.1, 15.1, 18.7,  9.6, 31.5, 24.8, 19.1,\n",
       "       22. , 14.5, 11. , 32. , 29.4, 20.3, 24.4, 14.6, 19.5, 14.1, 14.3,\n",
       "       15.6, 10.5,  6.3, 19.3, 19.3, 13.4, 36.4, 17.8, 13.5, 16.5,  8.3,\n",
       "       14.3, 16. , 13.4, 28.6, 43.5, 20.2, 22. , 23. , 20.7, 12.5, 48.5,\n",
       "       14.6, 13.4, 23.7, 50. , 21.7, 39.8, 38.7, 22.2, 34.9, 22.5, 31.1,\n",
       "       28.7, 46. , 41.7, 21. , 26.6, 15. , 24.4, 13.3, 21.2, 11.7, 21.7,\n",
       "       19.4, 50. , 22.8, 19.7, 24.7, 36.2, 14.2, 18.9, 18.3, 20.6, 24.6,\n",
       "       18.2,  8.7, 44. , 10.4, 13.2, 21.2, 37. , 30.7, 22.9, 20. , 19.3,\n",
       "       31.7, 32. , 23.1, 18.8, 10.9, 50. , 19.6,  5. , 14.4, 19.8, 13.8,\n",
       "       19.6, 23.9, 24.5, 25. , 19.9, 17.2, 24.6, 13.5, 26.6, 21.4, 11.9,\n",
       "       22.6, 19.6,  8.5, 23.7, 23.1, 22.4, 20.5, 23.6, 18.4, 35.2, 23.1,\n",
       "       27.9, 20.6, 23.7, 28. , 13.6, 27.1, 23.6, 20.6, 18.2, 21.7, 17.1,\n",
       "        8.4, 25.3, 13.8, 22.2, 18.4, 20.7, 31.6, 30.5, 20.3,  8.8, 19.2,\n",
       "       19.4, 23.1, 23. , 14.8, 48.8, 22.6, 33.4, 21.1, 13.6, 32.2, 13.1,\n",
       "       23.4, 18.9, 23.9, 11.8, 23.3, 22.8, 19.6, 16.7, 13.4, 22.2, 20.4,\n",
       "       21.8, 26.4, 14.9, 24.1, 23.8, 12.3, 29.1, 21. , 19.5, 23.3, 23.8,\n",
       "       17.8, 11.5, 21.7, 19.9, 25. , 33.4, 28.5, 21.4, 24.3, 27.5, 33.1,\n",
       "       16.2, 23.3, 48.3, 22.9, 22.8, 13.1, 12.7, 22.6, 15. , 15.3, 10.5,\n",
       "       24. , 18.5, 21.7, 19.5, 33.2, 23.2,  5. , 19.1, 12.7, 22.3, 10.2,\n",
       "       13.9, 16.3, 17. , 20.1, 29.9, 17.2, 37.3, 45.4, 17.8, 23.2, 29. ,\n",
       "       22. , 18. , 17.4, 34.6, 20.1, 25. , 15.6, 24.8, 28.2, 21.2, 21.4,\n",
       "       23.8, 31. , 26.2, 17.4, 37.9, 17.5, 20. ,  8.3, 23.9,  8.4, 13.8,\n",
       "        7.2, 11.7, 17.1, 21.6, 50. , 16.1, 20.4, 20.6, 21.4, 20.6, 36.5,\n",
       "        8.5, 24.8, 10.8, 21.9, 17.3, 18.9, 36.2, 14.9, 18.2, 33.3, 21.8,\n",
       "       19.7, 31.6, 24.8, 19.4, 22.8,  7.5, 44.8, 16.8, 18.7, 50. , 50. ,\n",
       "       19.5, 20.1, 50. , 17.2, 20.8, 19.3, 41.3, 20.4, 20.5, 13.8, 16.5,\n",
       "       23.9, 20.6, 31.5, 23.3, 16.8, 14. , 33.8, 36.1, 12.8, 18.3, 18.7,\n",
       "       19.1, 29. , 30.1, 50. , 50. , 22. , 11.9, 37.6, 50. , 22.7, 20.8,\n",
       "       23.5, 27.9, 50. , 19.3, 23.9, 22.6, 15.2, 21.7, 19.2, 43.8, 20.3,\n",
       "       33.2, 19.9, 22.5, 32.7, 22. , 17.1, 19. , 15. , 16.1, 25.1, 23.7,\n",
       "       28.7, 37.2, 22.6, 16.4, 25. , 29.8, 22.1, 17.4, 18.1, 30.3, 17.5,\n",
       "       24.7, 12.6, 26.5, 28.7, 13.3, 10.4, 24.4, 23. , 20. , 17.8,  7. ,\n",
       "       11.8, 24.4, 13.8, 19.4, 25.2, 19.4, 19.4, 29.1])"
      ]
     },
     "execution_count": 6,
     "metadata": {},
     "output_type": "execute_result"
    }
   ],
   "source": [
    "train_targets"
   ]
  },
  {
   "cell_type": "code",
   "execution_count": 7,
   "metadata": {},
   "outputs": [],
   "source": [
    "mean = train_data.mean(axis=0)"
   ]
  },
  {
   "cell_type": "code",
   "execution_count": 8,
   "metadata": {},
   "outputs": [],
   "source": [
    "train_data = train_data - mean"
   ]
  },
  {
   "cell_type": "code",
   "execution_count": 9,
   "metadata": {},
   "outputs": [],
   "source": [
    "std = train_data.std(axis=0)"
   ]
  },
  {
   "cell_type": "code",
   "execution_count": 10,
   "metadata": {},
   "outputs": [],
   "source": [
    "train_data = train_data/std"
   ]
  },
  {
   "cell_type": "code",
   "execution_count": 11,
   "metadata": {},
   "outputs": [],
   "source": [
    "test_data = test_data - mean"
   ]
  },
  {
   "cell_type": "code",
   "execution_count": 12,
   "metadata": {},
   "outputs": [],
   "source": [
    "test_data = test_data/std"
   ]
  },
  {
   "cell_type": "code",
   "execution_count": 15,
   "metadata": {},
   "outputs": [],
   "source": [
    "from tensorflow.keras import models\n",
    "from tensorflow.keras import layers"
   ]
  },
  {
   "cell_type": "code",
   "execution_count": 48,
   "metadata": {},
   "outputs": [],
   "source": []
  },
  {
   "cell_type": "code",
   "execution_count": 49,
   "metadata": {},
   "outputs": [],
   "source": [
    "model = models.Sequential()\n",
    "model.add(layers.Dense(64, activation = 'relu' , input_shape = (train_data.shape[1],)))\n",
    "model.add(layers.Dense(64 , activation ='relu'))\n",
    "model.add(layers.Dense(1) )\n",
    "model.compile(optimizer='rmsprop' , loss ='mse', metrics = ['mae'])"
   ]
  },
  {
   "cell_type": "code",
   "execution_count": 50,
   "metadata": {},
   "outputs": [
    {
     "name": "stdout",
     "output_type": "stream",
     "text": [
      "Model: \"sequential_2\"\n",
      "_________________________________________________________________\n",
      "Layer (type)                 Output Shape              Param #   \n",
      "=================================================================\n",
      "dense_10 (Dense)             (None, 64)                896       \n",
      "_________________________________________________________________\n",
      "dense_11 (Dense)             (None, 64)                4160      \n",
      "_________________________________________________________________\n",
      "dense_12 (Dense)             (None, 1)                 65        \n",
      "=================================================================\n",
      "Total params: 5,121\n",
      "Trainable params: 5,121\n",
      "Non-trainable params: 0\n",
      "_________________________________________________________________\n"
     ]
    }
   ],
   "source": [
    "model.summary()"
   ]
  },
  {
   "cell_type": "code",
   "execution_count": 19,
   "metadata": {},
   "outputs": [],
   "source": [
    "import numpy as np\n",
    "k = 4 \n",
    "num_val_samples = len(train_data)//k\n",
    "num_epochs = 100\n",
    "all_scores = []"
   ]
  },
  {
   "cell_type": "code",
   "execution_count": 36,
   "metadata": {},
   "outputs": [
    {
     "data": {
      "text/plain": [
       "(404, 13)"
      ]
     },
     "execution_count": 36,
     "metadata": {},
     "output_type": "execute_result"
    }
   ],
   "source": [
    "train_data.shape"
   ]
  },
  {
   "cell_type": "code",
   "execution_count": 37,
   "metadata": {},
   "outputs": [
    {
     "data": {
      "text/plain": [
       "(102, 13)"
      ]
     },
     "execution_count": 37,
     "metadata": {},
     "output_type": "execute_result"
    }
   ],
   "source": [
    "test_data.shape"
   ]
  },
  {
   "cell_type": "code",
   "execution_count": null,
   "metadata": {},
   "outputs": [],
   "source": []
  },
  {
   "cell_type": "code",
   "execution_count": 51,
   "metadata": {
    "scrolled": true
   },
   "outputs": [
    {
     "name": "stdout",
     "output_type": "stream",
     "text": [
      "Epoch 1/20\n",
      "11/11 [==============================] - 0s 10ms/step - loss: 495.2490 - mae: 20.9162 - val_loss: 513.0879 - val_mae: 21.4308\n",
      "Epoch 2/20\n",
      "11/11 [==============================] - 0s 4ms/step - loss: 442.4389 - mae: 18.9560 - val_loss: 432.9287 - val_mae: 19.4705\n",
      "Epoch 3/20\n",
      "11/11 [==============================] - 0s 4ms/step - loss: 361.6664 - mae: 16.8124 - val_loss: 347.0577 - val_mae: 17.1260\n",
      "Epoch 4/20\n",
      "11/11 [==============================] - 0s 4ms/step - loss: 269.6778 - mae: 14.4441 - val_loss: 267.1375 - val_mae: 14.6490\n",
      "Epoch 5/20\n",
      "11/11 [==============================] - 0s 4ms/step - loss: 212.5705 - mae: 12.0430 - val_loss: 189.1478 - val_mae: 11.7820\n",
      "Epoch 6/20\n",
      "11/11 [==============================] - 0s 4ms/step - loss: 143.0894 - mae: 9.6957 - val_loss: 139.3020 - val_mae: 9.5991\n",
      "Epoch 7/20\n",
      "11/11 [==============================] - 0s 4ms/step - loss: 97.7872 - mae: 8.0603 - val_loss: 104.9701 - val_mae: 8.0942\n",
      "Epoch 8/20\n",
      "11/11 [==============================] - 0s 5ms/step - loss: 77.1672 - mae: 6.9238 - val_loss: 82.1287 - val_mae: 7.0420\n",
      "Epoch 9/20\n",
      "11/11 [==============================] - 0s 4ms/step - loss: 65.2654 - mae: 6.1150 - val_loss: 67.6043 - val_mae: 6.3166\n",
      "Epoch 10/20\n",
      "11/11 [==============================] - 0s 4ms/step - loss: 54.5682 - mae: 5.4926 - val_loss: 52.4053 - val_mae: 5.5396\n",
      "Epoch 11/20\n",
      "11/11 [==============================] - 0s 4ms/step - loss: 42.5783 - mae: 4.8620 - val_loss: 44.9573 - val_mae: 5.0606\n",
      "Epoch 12/20\n",
      "11/11 [==============================] - 0s 4ms/step - loss: 37.4357 - mae: 4.4869 - val_loss: 38.1352 - val_mae: 4.7291\n",
      "Epoch 13/20\n",
      "11/11 [==============================] - 0s 4ms/step - loss: 33.4864 - mae: 4.1985 - val_loss: 32.4825 - val_mae: 4.2848\n",
      "Epoch 14/20\n",
      "11/11 [==============================] - 0s 4ms/step - loss: 28.1653 - mae: 3.8923 - val_loss: 28.0489 - val_mae: 4.0176\n",
      "Epoch 15/20\n",
      "11/11 [==============================] - 0s 4ms/step - loss: 25.9617 - mae: 3.6920 - val_loss: 25.8396 - val_mae: 3.7504\n",
      "Epoch 16/20\n",
      "11/11 [==============================] - 0s 4ms/step - loss: 24.5940 - mae: 3.5199 - val_loss: 23.0159 - val_mae: 3.7299\n",
      "Epoch 17/20\n",
      "11/11 [==============================] - 0s 5ms/step - loss: 22.4611 - mae: 3.3617 - val_loss: 21.5016 - val_mae: 3.6120\n",
      "Epoch 18/20\n",
      "11/11 [==============================] - 0s 4ms/step - loss: 22.8104 - mae: 3.2756 - val_loss: 20.7073 - val_mae: 3.3768\n",
      "Epoch 19/20\n",
      "11/11 [==============================] - 0s 4ms/step - loss: 20.4150 - mae: 3.1547 - val_loss: 19.1933 - val_mae: 3.3365\n",
      "Epoch 20/20\n",
      "11/11 [==============================] - 0s 4ms/step - loss: 18.4991 - mae: 3.0869 - val_loss: 18.0839 - val_mae: 3.1455\n"
     ]
    }
   ],
   "source": [
    "history = model.fit(train_data, train_targets, epochs=20, batch_size=32, validation_split = 0.2 )"
   ]
  },
  {
   "cell_type": "code",
   "execution_count": 27,
   "metadata": {},
   "outputs": [
    {
     "data": {
      "text/plain": [
       "{'verbose': 1, 'epochs': 20, 'steps': 13}"
      ]
     },
     "execution_count": 27,
     "metadata": {},
     "output_type": "execute_result"
    }
   ],
   "source": [
    "history.params"
   ]
  },
  {
   "cell_type": "code",
   "execution_count": 64,
   "metadata": {},
   "outputs": [],
   "source": [
    "z=model.predict(test_data)"
   ]
  },
  {
   "cell_type": "code",
   "execution_count": 70,
   "metadata": {},
   "outputs": [
    {
     "name": "stdout",
     "output_type": "stream",
     "text": [
      "Epoch 1/50\n",
      "33/33 [==============================] - 0s 4ms/step - loss: 371.6644 - mae: 16.7826 - val_loss: 173.2441 - val_mae: 11.1237\n",
      "Epoch 2/50\n",
      "33/33 [==============================] - 0s 2ms/step - loss: 66.3752 - mae: 6.2149 - val_loss: 38.5029 - val_mae: 4.4828\n",
      "Epoch 3/50\n",
      "33/33 [==============================] - 0s 2ms/step - loss: 32.6049 - mae: 3.9652 - val_loss: 26.5159 - val_mae: 3.6942\n",
      "Epoch 4/50\n",
      "33/33 [==============================] - 0s 2ms/step - loss: 24.0137 - mae: 3.3164 - val_loss: 25.0895 - val_mae: 3.7195\n",
      "Epoch 5/50\n",
      "33/33 [==============================] - 0s 2ms/step - loss: 20.9602 - mae: 3.0652 - val_loss: 20.2037 - val_mae: 3.4274\n",
      "Epoch 6/50\n",
      "33/33 [==============================] - 0s 2ms/step - loss: 17.8761 - mae: 2.8777 - val_loss: 18.9240 - val_mae: 3.3037\n",
      "Epoch 7/50\n",
      "33/33 [==============================] - 0s 2ms/step - loss: 16.2964 - mae: 2.7531 - val_loss: 16.9898 - val_mae: 3.1628\n",
      "Epoch 8/50\n",
      "33/33 [==============================] - 0s 2ms/step - loss: 14.6672 - mae: 2.6415 - val_loss: 15.7839 - val_mae: 3.1860\n",
      "Epoch 9/50\n",
      "33/33 [==============================] - 0s 2ms/step - loss: 13.6623 - mae: 2.5442 - val_loss: 20.6554 - val_mae: 3.4652\n",
      "Epoch 10/50\n",
      "33/33 [==============================] - 0s 2ms/step - loss: 12.9446 - mae: 2.5242 - val_loss: 13.8313 - val_mae: 2.8790\n",
      "Epoch 11/50\n",
      "33/33 [==============================] - 0s 2ms/step - loss: 12.3800 - mae: 2.4263 - val_loss: 14.8115 - val_mae: 2.9640\n",
      "Epoch 12/50\n",
      "33/33 [==============================] - 0s 2ms/step - loss: 11.5928 - mae: 2.4696 - val_loss: 13.6951 - val_mae: 2.9051\n",
      "Epoch 13/50\n",
      "33/33 [==============================] - 0s 2ms/step - loss: 11.3963 - mae: 2.3625 - val_loss: 14.1330 - val_mae: 2.8263\n",
      "Epoch 14/50\n",
      "33/33 [==============================] - 0s 2ms/step - loss: 10.3353 - mae: 2.3033 - val_loss: 18.6230 - val_mae: 3.2366\n",
      "Epoch 15/50\n",
      "33/33 [==============================] - 0s 2ms/step - loss: 10.9808 - mae: 2.3078 - val_loss: 13.5210 - val_mae: 2.8121\n",
      "Epoch 16/50\n",
      "33/33 [==============================] - 0s 2ms/step - loss: 9.6093 - mae: 2.2076 - val_loss: 13.6043 - val_mae: 2.9400\n",
      "Epoch 17/50\n",
      "33/33 [==============================] - 0s 2ms/step - loss: 9.2099 - mae: 2.1113 - val_loss: 15.6066 - val_mae: 2.8794\n",
      "Epoch 18/50\n",
      "33/33 [==============================] - 0s 2ms/step - loss: 9.1526 - mae: 2.1324 - val_loss: 16.9407 - val_mae: 2.9226\n",
      "Epoch 19/50\n",
      "33/33 [==============================] - 0s 2ms/step - loss: 9.1710 - mae: 2.1895 - val_loss: 18.4377 - val_mae: 3.5543\n",
      "Epoch 20/50\n",
      "33/33 [==============================] - 0s 2ms/step - loss: 9.3745 - mae: 2.0864 - val_loss: 14.3397 - val_mae: 2.7627\n",
      "Epoch 21/50\n",
      "33/33 [==============================] - 0s 2ms/step - loss: 8.3257 - mae: 2.0900 - val_loss: 12.0576 - val_mae: 2.7741\n",
      "Epoch 22/50\n",
      "33/33 [==============================] - 0s 2ms/step - loss: 8.6966 - mae: 2.0375 - val_loss: 18.3601 - val_mae: 3.1417\n",
      "Epoch 23/50\n",
      "33/33 [==============================] - 0s 2ms/step - loss: 8.2570 - mae: 2.0181 - val_loss: 14.0478 - val_mae: 2.7546\n",
      "Epoch 24/50\n",
      "33/33 [==============================] - 0s 2ms/step - loss: 8.7948 - mae: 2.0804 - val_loss: 14.2782 - val_mae: 2.7379\n",
      "Epoch 25/50\n",
      "33/33 [==============================] - 0s 2ms/step - loss: 7.8760 - mae: 1.9468 - val_loss: 13.8543 - val_mae: 2.7400\n",
      "Epoch 26/50\n",
      "33/33 [==============================] - 0s 2ms/step - loss: 8.5994 - mae: 1.9827 - val_loss: 13.5689 - val_mae: 2.7875\n",
      "Epoch 27/50\n",
      "33/33 [==============================] - 0s 2ms/step - loss: 7.7553 - mae: 1.9504 - val_loss: 12.5478 - val_mae: 2.7434\n",
      "Epoch 28/50\n",
      "33/33 [==============================] - 0s 2ms/step - loss: 7.7445 - mae: 1.9456 - val_loss: 12.2019 - val_mae: 2.6594\n",
      "Epoch 29/50\n",
      "33/33 [==============================] - 0s 2ms/step - loss: 7.7223 - mae: 1.9830 - val_loss: 14.4153 - val_mae: 2.9067\n",
      "Epoch 30/50\n",
      "33/33 [==============================] - 0s 2ms/step - loss: 7.2488 - mae: 1.8712 - val_loss: 14.1318 - val_mae: 2.8225\n",
      "Epoch 31/50\n",
      "33/33 [==============================] - 0s 2ms/step - loss: 6.9967 - mae: 1.9147 - val_loss: 12.9263 - val_mae: 2.7413\n",
      "Epoch 32/50\n",
      "33/33 [==============================] - 0s 2ms/step - loss: 7.0787 - mae: 1.8790 - val_loss: 14.4602 - val_mae: 2.7735\n",
      "Epoch 33/50\n",
      "33/33 [==============================] - 0s 2ms/step - loss: 6.8220 - mae: 1.8593 - val_loss: 16.9184 - val_mae: 2.8865\n",
      "Epoch 34/50\n",
      "33/33 [==============================] - 0s 2ms/step - loss: 7.7204 - mae: 1.8913 - val_loss: 14.1254 - val_mae: 2.7391\n",
      "Epoch 35/50\n",
      "33/33 [==============================] - 0s 2ms/step - loss: 6.3631 - mae: 1.7749 - val_loss: 21.4274 - val_mae: 3.2462\n",
      "Epoch 36/50\n",
      "33/33 [==============================] - 0s 2ms/step - loss: 6.7220 - mae: 1.8708 - val_loss: 17.2303 - val_mae: 2.8163\n",
      "Epoch 37/50\n",
      "33/33 [==============================] - 0s 2ms/step - loss: 6.3075 - mae: 1.7928 - val_loss: 12.6403 - val_mae: 2.7319\n",
      "Epoch 38/50\n",
      "33/33 [==============================] - 0s 2ms/step - loss: 8.5843 - mae: 1.7533 - val_loss: 23.3128 - val_mae: 3.2916\n",
      "Epoch 39/50\n",
      "33/33 [==============================] - 0s 2ms/step - loss: 6.1348 - mae: 1.7830 - val_loss: 15.7796 - val_mae: 2.8580\n",
      "Epoch 40/50\n",
      "33/33 [==============================] - 0s 2ms/step - loss: 6.0221 - mae: 1.7141 - val_loss: 14.9272 - val_mae: 2.6538\n",
      "Epoch 41/50\n",
      "33/33 [==============================] - 0s 2ms/step - loss: 6.0725 - mae: 1.8007 - val_loss: 14.5432 - val_mae: 2.6806\n",
      "Epoch 42/50\n",
      "33/33 [==============================] - 0s 2ms/step - loss: 6.3602 - mae: 1.7823 - val_loss: 14.5656 - val_mae: 2.7190\n",
      "Epoch 43/50\n",
      "33/33 [==============================] - 0s 2ms/step - loss: 5.9561 - mae: 1.6816 - val_loss: 30.6176 - val_mae: 4.1578\n",
      "Epoch 44/50\n",
      "33/33 [==============================] - 0s 2ms/step - loss: 6.2310 - mae: 1.7403 - val_loss: 11.4616 - val_mae: 2.5713\n",
      "Epoch 45/50\n",
      "33/33 [==============================] - 0s 2ms/step - loss: 5.5938 - mae: 1.6488 - val_loss: 11.2854 - val_mae: 2.5305\n",
      "Epoch 46/50\n",
      "33/33 [==============================] - 0s 2ms/step - loss: 6.1269 - mae: 1.7262 - val_loss: 11.6697 - val_mae: 2.5317\n",
      "Epoch 47/50\n",
      "33/33 [==============================] - 0s 2ms/step - loss: 5.5875 - mae: 1.6660 - val_loss: 16.4289 - val_mae: 2.7073\n",
      "Epoch 48/50\n",
      "33/33 [==============================] - 0s 2ms/step - loss: 5.7248 - mae: 1.7311 - val_loss: 14.1533 - val_mae: 2.7345\n",
      "Epoch 49/50\n",
      "33/33 [==============================] - 0s 2ms/step - loss: 5.2823 - mae: 1.6314 - val_loss: 13.4762 - val_mae: 2.9931\n",
      "Epoch 50/50\n",
      "33/33 [==============================] - 0s 2ms/step - loss: 5.4335 - mae: 1.7061 - val_loss: 12.6014 - val_mae: 2.5475\n",
      "4/4 [==============================] - 0s 879us/step - loss: 39.0853 - mae: 2.9721\n"
     ]
    }
   ],
   "source": [
    "model = models.Sequential()\n",
    "model.add(layers.Dense(64, activation = 'relu' , input_shape = (train_data.shape[1],)))\n",
    "model.add(layers.Dense(64 , activation ='relu'))\n",
    "model.add(layers.Dense(64 , activation ='relu'))\n",
    "model.add(layers.Dense(1) )\n",
    "model.compile(optimizer='rmsprop' , loss ='mse', metrics = ['mae'])\n",
    "history = model.fit(train_data, train_targets, epochs=50, batch_size=10, validation_split = 0.2 )\n",
    "test_mse_score, test_mae_score = model.evaluate(test_data, test_targets)"
   ]
  },
  {
   "cell_type": "code",
   "execution_count": 71,
   "metadata": {},
   "outputs": [
    {
     "data": {
      "text/plain": [
       "(39.08528518676758, 2.972095489501953)"
      ]
     },
     "execution_count": 71,
     "metadata": {},
     "output_type": "execute_result"
    }
   ],
   "source": [
    "test_mse_score, test_mae_score"
   ]
  },
  {
   "cell_type": "code",
   "execution_count": 73,
   "metadata": {
    "scrolled": false
   },
   "outputs": [
    {
     "data": {
      "text/plain": [
       "[371.66436767578125,\n",
       " 66.37523651123047,\n",
       " 32.604888916015625,\n",
       " 24.013660430908203,\n",
       " 20.96023941040039,\n",
       " 17.876087188720703,\n",
       " 16.296369552612305,\n",
       " 14.667191505432129,\n",
       " 13.662345886230469,\n",
       " 12.944573402404785,\n",
       " 12.379951477050781,\n",
       " 11.592796325683594,\n",
       " 11.396323204040527,\n",
       " 10.335344314575195,\n",
       " 10.980793952941895,\n",
       " 9.609308242797852,\n",
       " 9.209916114807129,\n",
       " 9.152555465698242,\n",
       " 9.171024322509766,\n",
       " 9.374520301818848,\n",
       " 8.32567024230957,\n",
       " 8.696619987487793,\n",
       " 8.256978988647461,\n",
       " 8.794815063476562,\n",
       " 7.875987529754639,\n",
       " 8.599387168884277,\n",
       " 7.755297660827637,\n",
       " 7.744482040405273,\n",
       " 7.722334861755371,\n",
       " 7.248848915100098,\n",
       " 6.996651649475098,\n",
       " 7.078746318817139,\n",
       " 6.821954727172852,\n",
       " 7.720396041870117,\n",
       " 6.363122463226318,\n",
       " 6.722023963928223,\n",
       " 6.307545185089111,\n",
       " 8.584309577941895,\n",
       " 6.134836196899414,\n",
       " 6.022144794464111,\n",
       " 6.072520732879639,\n",
       " 6.360237121582031,\n",
       " 5.956149578094482,\n",
       " 6.230990409851074,\n",
       " 5.593810558319092,\n",
       " 6.126856327056885,\n",
       " 5.587463855743408,\n",
       " 5.724792957305908,\n",
       " 5.282258033752441,\n",
       " 5.433548927307129]"
      ]
     },
     "execution_count": 73,
     "metadata": {},
     "output_type": "execute_result"
    }
   ],
   "source": [
    "history.history['loss']"
   ]
  },
  {
   "cell_type": "code",
   "execution_count": null,
   "metadata": {},
   "outputs": [],
   "source": []
  }
 ],
 "metadata": {
  "kernelspec": {
   "display_name": "Python 3",
   "language": "python",
   "name": "python3"
  },
  "language_info": {
   "codemirror_mode": {
    "name": "ipython",
    "version": 3
   },
   "file_extension": ".py",
   "mimetype": "text/x-python",
   "name": "python",
   "nbconvert_exporter": "python",
   "pygments_lexer": "ipython3",
   "version": "3.7.6"
  }
 },
 "nbformat": 4,
 "nbformat_minor": 2
}
